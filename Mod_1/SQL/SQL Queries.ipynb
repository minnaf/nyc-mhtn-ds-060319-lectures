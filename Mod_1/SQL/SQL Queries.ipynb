{
 "cells": [
  {
   "cell_type": "markdown",
   "metadata": {},
   "source": [
    "<h1 style='text-align: center'>SQL Queries</h1>"
   ]
  },
  {
   "cell_type": "markdown",
   "metadata": {},
   "source": [
    "## Getting Data From A SQL Database"
   ]
  },
  {
   "cell_type": "markdown",
   "metadata": {},
   "source": [
    "### The Structure of a SQL Query"
   ]
  },
  {
   "cell_type": "markdown",
   "metadata": {},
   "source": [
    "<img src='images/sql_statement.jpg'/>"
   ]
  },
  {
   "cell_type": "markdown",
   "metadata": {},
   "source": [
    "#### SELECT"
   ]
  },
  {
   "cell_type": "markdown",
   "metadata": {},
   "source": [
    "- What columns of data do we want? \n",
    "- Specify by column names or * (All) "
   ]
  },
  {
   "cell_type": "markdown",
   "metadata": {},
   "source": [
    "- Where are we getting our data from? (From statement)\n",
    "- Specify by table name or use join statement to join multiple tables"
   ]
  },
  {
   "cell_type": "markdown",
   "metadata": {},
   "source": [
    "##### JOIN "
   ]
  },
  {
   "cell_type": "markdown",
   "metadata": {},
   "source": [
    "- Use to join multiple tables \n",
    "- SELECT * FROM students join favorite_foods on students.id = favorite_foods.student_id\n",
    "- SELECT * FROM students as s join favorite_foods as f on s.id = f.student_id"
   ]
  },
  {
   "cell_type": "markdown",
   "metadata": {},
   "source": [
    "#### WHERE \n",
    "    - filters entire data set, as long as not using aggregate function"
   ]
  },
  {
   "cell_type": "markdown",
   "metadata": {},
   "source": [
    "- apply some filter to the data you are querying \n",
    "- define criteria for data that should selected from the database \n",
    "- SELECT * from students WHERE age > 10 "
   ]
  },
  {
   "cell_type": "markdown",
   "metadata": {},
   "source": [
    "#### GROUP BY"
   ]
  },
  {
   "cell_type": "markdown",
   "metadata": {},
   "source": [
    "- Group columns by similar values\n",
    "- SELECT COUNT(id), city from students GROUP BY city\n",
    "- can apply function to that entire group i.e. MAX\n",
    "- group by 1: group by first thing listed in SELECT statement "
   ]
  },
  {
   "cell_type": "markdown",
   "metadata": {},
   "source": [
    "#### HAVING"
   ]
  },
  {
   "cell_type": "markdown",
   "metadata": {},
   "source": [
    "- Use to apply filter AFTER you have made your initial query \n",
    "- When should we use HAVING instead of WHERE"
   ]
  },
  {
   "cell_type": "code",
   "execution_count": 35,
   "metadata": {},
   "outputs": [],
   "source": [
    "import sqlite3\n",
    "\n",
    "conn = sqlite3.connect('tutorial.db')\n",
    "c = conn.cursor()"
   ]
  },
  {
   "cell_type": "code",
   "execution_count": 36,
   "metadata": {},
   "outputs": [],
   "source": [
    "# Load students.json file\n",
    "\n",
    "#your code here\n",
    "import json\n",
    "f=open('students.json','r')\n",
    "data=json.load(f)"
   ]
  },
  {
   "cell_type": "code",
   "execution_count": 21,
   "metadata": {},
   "outputs": [
    {
     "data": {
      "text/plain": [
       "{'name': 'Sean Abu Wilson',\n",
       " 'birthdate': '02/06',\n",
       " 'siblings': 2,\n",
       " 'Birthplace': 'Birmingham, AL',\n",
       " 'yearsinnyc': 7.8,\n",
       " 'favoritefood': 'guacamole'}"
      ]
     },
     "execution_count": 21,
     "metadata": {},
     "output_type": "execute_result"
    }
   ],
   "source": [
    "data[0]"
   ]
  },
  {
   "cell_type": "code",
   "execution_count": 120,
   "metadata": {},
   "outputs": [
    {
     "data": {
      "text/plain": [
       "<sqlite3.Cursor at 0x10e2bd110>"
      ]
     },
     "execution_count": 120,
     "metadata": {},
     "output_type": "execute_result"
    }
   ],
   "source": [
    "c.execute(\"DROP TABLE student_info\")"
   ]
  },
  {
   "cell_type": "code",
   "execution_count": 59,
   "metadata": {},
   "outputs": [
    {
     "data": {
      "text/plain": [
       "'DROP TABLE student_info'"
      ]
     },
     "execution_count": 59,
     "metadata": {},
     "output_type": "execute_result"
    }
   ],
   "source": [
    "droptable"
   ]
  },
  {
   "cell_type": "code",
   "execution_count": 121,
   "metadata": {},
   "outputs": [],
   "source": [
    "# iterate over the data and insert each student into the DB\n",
    "\n",
    "\n",
    "c.execute(\"\"\"CREATE TABLE IF NOT EXISTS student_info \n",
    "        (name TEXT, birthdate TEXT, number_of_siblings INT, birth_place TEXT, years_in_nyc INT, favorite_food TEXT)\"\"\")\n",
    "\n",
    "\n",
    "conn.commit()"
   ]
  },
  {
   "cell_type": "code",
   "execution_count": 122,
   "metadata": {},
   "outputs": [],
   "source": [
    "# dynamic data entry example\n",
    "\n",
    "\n",
    "\n",
    "\n",
    "def dynamic_data_entry(person):\n",
    "\n",
    "    name = str(person['name'])\n",
    "    birthdate = str(person['birthdate'])\n",
    "    number_of_siblings = int(person['siblings'])\n",
    "    birth_place = str(person['Birthplace'])\n",
    "    years_in_nyc = float(person['yearsinnyc'])\n",
    "    favorite_food = str(person['favoritefood'])\n",
    "\n",
    "    c.execute('''INSERT INTO student_info (name, birthdate, number_of_siblings, birth_place, \n",
    "                 years_in_nyc, favorite_food) VALUES (?, ?, ?, ?, ?, ?)''',\n",
    "                 (name, birthdate, number_of_siblings, birth_place, years_in_nyc, favorite_food))\n",
    "\n",
    "\n",
    "              \n",
    "\n",
    "    \n",
    "   \n",
    "# c.close\n",
    "# conn.close()"
   ]
  },
  {
   "cell_type": "code",
   "execution_count": 123,
   "metadata": {},
   "outputs": [],
   "source": [
    "for person in data:\n",
    "    dynamic_data_entry(person)\n",
    "conn.commit()\n"
   ]
  },
  {
   "cell_type": "code",
   "execution_count": null,
   "metadata": {},
   "outputs": [],
   "source": []
  },
  {
   "cell_type": "markdown",
   "metadata": {},
   "source": [
    "### Questions\n",
    "1. What are the names of all of the students?\n",
    "2. Which student has the most siblings?\n",
    "3. How many students are only children?\n",
    "4. Which 3 students have lived in NYC the shortest amount of time?\n",
    "5. How many students are native New Yorkers?\n",
    "6. Do any two students have the same favorite food?\n",
    "7. Which student was born closest to the cohort's graduation date?"
   ]
  },
  {
   "cell_type": "code",
   "execution_count": 67,
   "metadata": {},
   "outputs": [
    {
     "data": {
      "text/plain": [
       "[('Sean Abu Wilson',),\n",
       " ('Tawab',),\n",
       " ('Bridget Boakye',),\n",
       " ('Cristina',),\n",
       " ('Danny (Haoyang) Yu',),\n",
       " ('Dustin_Breitner',),\n",
       " ('Gregory DeSantis',),\n",
       " ('Harrison Miller',),\n",
       " ('Jeremy Owens',),\n",
       " ('Jeremy Reikes',),\n",
       " ('Johnathan Peck',),\n",
       " ('Minna F',),\n",
       " ('Nabil Abbas',),\n",
       " ('Natalie Del Rossi',),\n",
       " ('Remy Canario',),\n",
       " ('Xristos Katsaros',)]"
      ]
     },
     "execution_count": 67,
     "metadata": {},
     "output_type": "execute_result"
    }
   ],
   "source": [
    "c.execute(\"\"\"SELECT name FROM student_info\"\"\").fetchall()"
   ]
  },
  {
   "cell_type": "code",
   "execution_count": 99,
   "metadata": {},
   "outputs": [
    {
     "data": {
      "text/plain": [
       "[('Tawab', 4)]"
      ]
     },
     "execution_count": 99,
     "metadata": {},
     "output_type": "execute_result"
    }
   ],
   "source": [
    "c.execute(\"\"\"SELECT name, number_of_siblings FROM student_info WHERE number_of_siblings = (SELECT MAX(number_of_siblings) FROM student_info)\"\"\").fetchall()"
   ]
  },
  {
   "cell_type": "code",
   "execution_count": 69,
   "metadata": {},
   "outputs": [
    {
     "data": {
      "text/plain": [
       "[('Harrison Miller',),\n",
       " ('Jeremy Owens',),\n",
       " ('Natalie Del Rossi',),\n",
       " ('Remy Canario',)]"
      ]
     },
     "execution_count": 69,
     "metadata": {},
     "output_type": "execute_result"
    }
   ],
   "source": [
    "c.execute(\"\"\"SELECT name FROM student_info WHERE number_of_siblings == 0\"\"\").fetchall()"
   ]
  },
  {
   "cell_type": "code",
   "execution_count": 110,
   "metadata": {},
   "outputs": [
    {
     "data": {
      "text/plain": [
       "[('Danny (Haoyang) Yu', 0), ('Harrison Miller', 0), ('Danny (Haoyang) Yu', 0)]"
      ]
     },
     "execution_count": 110,
     "metadata": {},
     "output_type": "execute_result"
    }
   ],
   "source": [
    "c.execute(\"\"\"SELECT name, years_in_nyc from student_info ORDER BY years_in_nyc LIMIT 3\"\"\").fetchall()"
   ]
  },
  {
   "cell_type": "code",
   "execution_count": 129,
   "metadata": {},
   "outputs": [
    {
     "data": {
      "text/plain": [
       "[('Dustin_Breitner', 'New_York'),\n",
       " ('Jeremy Reikes', 'New York City'),\n",
       " ('Johnathan Peck', 'New York'),\n",
       " ('Remy Canario', 'New York')]"
      ]
     },
     "execution_count": 129,
     "metadata": {},
     "output_type": "execute_result"
    }
   ],
   "source": [
    "c.execute(\"\"\"SELECT name, birth_place \n",
    "          FROM student_info \n",
    "          WHERE birth_place LIKE '%york%'\"\"\").fetchall()"
   ]
  },
  {
   "cell_type": "code",
   "execution_count": 133,
   "metadata": {},
   "outputs": [
    {
     "data": {
      "text/plain": [
       "[('Pizza', 7)]"
      ]
     },
     "execution_count": 133,
     "metadata": {},
     "output_type": "execute_result"
    }
   ],
   "source": [
    "c.execute(\"\"\"UPDATE student_info SET favorite_food = 'Pizza' WHERE favorite_food LIKE '%izza';\"\"\")\n",
    "c.execute(\"\"\"SELECT favorite_food, COUNT(favorite_food) FROM student_info \n",
    "             GROUP BY favorite_food HAVING COUNT(favorite_food) > 1 \"\"\").fetchall()"
   ]
  },
  {
   "cell_type": "code",
   "execution_count": 136,
   "metadata": {},
   "outputs": [
    {
     "data": {
      "text/plain": [
       "[('Bridget Boakye', '1990-07-13'),\n",
       " ('Danny (Haoyang) Yu', '1997-03-19'),\n",
       " ('Gregory DeSantis', '1987-11-23')]"
      ]
     },
     "execution_count": 136,
     "metadata": {},
     "output_type": "execute_result"
    }
   ],
   "source": [
    "c.execute(\"\"\"SELECT name, birthdate FROM student_info WHERE birthdate LIKE '_9%'\"\"\").fetchall()"
   ]
  },
  {
   "cell_type": "code",
   "execution_count": 140,
   "metadata": {},
   "outputs": [
    {
     "data": {
      "text/plain": [
       "[('Sean Abu Wilson', '02/06'),\n",
       " ('Tawab', '04/08/1998'),\n",
       " ('Bridget Boakye', '1990-07-13'),\n",
       " ('Cristina', '9/9/1990'),\n",
       " ('Danny (Haoyang) Yu', '1997-03-19'),\n",
       " ('Dustin_Breitner', '04/15/94'),\n",
       " ('Gregory DeSantis', '1987-11-23'),\n",
       " ('Harrison Miller', '10/2/85'),\n",
       " ('Jeremy Owens', '03/30/1990'),\n",
       " ('Jeremy Reikes', '1-/12/1995'),\n",
       " ('Johnathan Peck', '02-19-1994'),\n",
       " ('Minna F', '11-19-1996'),\n",
       " ('Nabil Abbas', '12-07-1994'),\n",
       " ('Natalie Del Rossi', '10-23-1994'),\n",
       " ('Remy Canario', '10-11-1988'),\n",
       " ('Xristos Katsaros', '03-24-1986')]"
      ]
     },
     "execution_count": 140,
     "metadata": {},
     "output_type": "execute_result"
    }
   ],
   "source": [
    "c.execute(\"\"\"SELECT name, birthdate FROM student_info\"\"\").fetchall()"
   ]
  },
  {
   "cell_type": "code",
   "execution_count": 149,
   "metadata": {},
   "outputs": [
    {
     "ename": "OperationalError",
     "evalue": "no such function: date_part",
     "output_type": "error",
     "traceback": [
      "\u001b[0;31m---------------------------------------------------------------------------\u001b[0m",
      "\u001b[0;31mOperationalError\u001b[0m                          Traceback (most recent call last)",
      "\u001b[0;32m<ipython-input-149-2fe8b66cc3c3>\u001b[0m in \u001b[0;36m<module>\u001b[0;34m\u001b[0m\n\u001b[0;32m----> 1\u001b[0;31m \u001b[0mc\u001b[0m\u001b[0;34m.\u001b[0m\u001b[0mexecute\u001b[0m\u001b[0;34m(\u001b[0m\u001b[0;34m\"\"\"SELECT date_part('month', birthdate) FROM student_info\"\"\"\u001b[0m\u001b[0;34m)\u001b[0m\u001b[0;34m.\u001b[0m\u001b[0mfetchall\u001b[0m\u001b[0;34m(\u001b[0m\u001b[0;34m)\u001b[0m\u001b[0;34m\u001b[0m\u001b[0;34m\u001b[0m\u001b[0m\n\u001b[0m",
      "\u001b[0;31mOperationalError\u001b[0m: no such function: date_part"
     ]
    }
   ],
   "source": [
    "c.execute(\"\"\"SELECT date_part('month', birthdate) FROM student_info\"\"\").fetchall()"
   ]
  },
  {
   "cell_type": "code",
   "execution_count": null,
   "metadata": {},
   "outputs": [],
   "source": []
  }
 ],
 "metadata": {
  "kernelspec": {
   "display_name": "Python 3",
   "language": "python",
   "name": "python3"
  },
  "language_info": {
   "codemirror_mode": {
    "name": "ipython",
    "version": 3
   },
   "file_extension": ".py",
   "mimetype": "text/x-python",
   "name": "python",
   "nbconvert_exporter": "python",
   "pygments_lexer": "ipython3",
   "version": "3.7.3"
  }
 },
 "nbformat": 4,
 "nbformat_minor": 2
}
