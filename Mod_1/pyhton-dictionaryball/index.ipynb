{
 "cells": [
  {
   "cell_type": "markdown",
   "metadata": {},
   "source": [
    "# Dictionaryball"
   ]
  },
  {
   "cell_type": "code",
   "execution_count": 1,
   "metadata": {},
   "outputs": [],
   "source": [
    "game_dictionary = {'home': {'team_name': 'Brooklyn Nets',\n",
    "                            'colors': ['Black', 'White'],\n",
    "                            'players': {'Alan Anderson': {\n",
    "                                            'number': 0,\n",
    "                                            'shoe': 16,\n",
    "                                            'points': 22,\n",
    "                                            'rebounds': 12,\n",
    "                                            'assists': 12,\n",
    "                                            'steals': 3,\n",
    "                                            'blocks': 1,\n",
    "                                            'slam_dunks': 1\n",
    "                                        },\n",
    "                                        'Reggie Evans': {\n",
    "                                            'number': 30,\n",
    "                                            'shoe': 14,\n",
    "                                            'points': 12,\n",
    "                                            'rebounds': 12,\n",
    "                                            'assists': 12,\n",
    "                                            'steals': 12,\n",
    "                                            'blocks': 12,\n",
    "                                            'slam_dunks': 7\n",
    "                                        },\n",
    "                                        'Brook Lopez': {\n",
    "                                            'number': 11,\n",
    "                                            'shoe': 17,\n",
    "                                            'points': 17,\n",
    "                                            'rebounds': 19,\n",
    "                                            'assists': 10,\n",
    "                                            'steals': 3,\n",
    "                                            'blocks': 1,\n",
    "                                            'slam_dunks': 15\n",
    "                                        },\n",
    "                                        'Mason Plumlee': {\n",
    "                                            'number': 1,\n",
    "                                            'shoe': 19,\n",
    "                                            'points': 26,\n",
    "                                            'rebounds': 12,\n",
    "                                            'assists': 6,\n",
    "                                            'steals': 3,\n",
    "                                            'blocks': 8,\n",
    "                                            'slam_dunks': 5\n",
    "                                        },\n",
    "                                        'Jason Terry': {\n",
    "                                            'number': 31,\n",
    "                                            'shoe': 15,\n",
    "                                            'points': 19,\n",
    "                                            'rebounds': 2,\n",
    "                                            'assists': 2,\n",
    "                                            'steals': 4,\n",
    "                                            'blocks': 11,\n",
    "                                            'slam_dunks': 1\n",
    "                                        }\n",
    "                                        }},\n",
    "                    'away': {'team_name': 'Charlotte Hornets',\n",
    "                            'colors': ['Turquoise', 'Purple'],\n",
    "                            'players': {'Jeff Adrien': {\n",
    "                                            'number': 4,\n",
    "                                            'shoe': 18,\n",
    "                                            'points': 10,\n",
    "                                            'rebounds': 1,\n",
    "                                            'assists': 1,\n",
    "                                            'steals': 2,\n",
    "                                            'blocks': 7,\n",
    "                                            'slam_dunks': 2\n",
    "                                        },\n",
    "                                        'Bismak Biyombo': {\n",
    "                                            'number': 0,\n",
    "                                            'shoe': 16,\n",
    "                                            'points': 12,\n",
    "                                            'rebounds': 4,\n",
    "                                            'assists': 7,\n",
    "                                            'steals': 7,\n",
    "                                            'blocks': 15,\n",
    "                                            'slam_dunks': 10\n",
    "                                        },\n",
    "                                        'DeSagna Diop': {\n",
    "                                            'number': 2,\n",
    "                                            'shoe': 14,\n",
    "                                            'points': 24,\n",
    "                                            'rebounds': 12,\n",
    "                                            'assists': 12,\n",
    "                                            'steals': 4,\n",
    "                                            'blocks': 5,\n",
    "                                            'slam_dunks': 5\n",
    "                                        },\n",
    "                                        'Ben Gordon': {\n",
    "                                            'number': 8,\n",
    "                                            'shoe': 15,\n",
    "                                            'points': 33,\n",
    "                                            'rebounds': 3,\n",
    "                                            'assists': 2,\n",
    "                                            'steals': 1,\n",
    "                                            'blocks': 1,\n",
    "                                            'slam_dunks': 0\n",
    "                                        },\n",
    "                                        'Brendan Haywood': {\n",
    "                                            'number': 33,\n",
    "                                            'shoe': 15,\n",
    "                                            'points': 6,\n",
    "                                            'rebounds': 12,\n",
    "                                            'assists': 12,\n",
    "                                            'steals': 22,\n",
    "                                            'blocks': 5,\n",
    "                                            'slam_dunks': 12\n",
    "                                        }}}}\n",
    "\n"
   ]
  },
  {
   "cell_type": "code",
   "execution_count": 2,
   "metadata": {},
   "outputs": [],
   "source": [
    "def good_practices():\n",
    "    for team_name, players in game_dict().items():\n",
    "    # are you ABSOLUTELY SURE what 'location' and 'team_stats' are? use pdb.set_trace() to find out!\n",
    "        import pdb; pdb.set_trace()\n",
    "        print(item)\n",
    "    #for number, shoe in players.items():\n",
    "        # are you ABSOLUTELY SURE what 'stats' and 'data' are? use pdb.set_trace() to find out!\n",
    "        #import pdb; pdb.set_trace()\n",
    "        # what is 'data' at each level of the for loop block? when will we be able to iterate through a list? \n",
    "        # When would the following line of code break?\n",
    "    #for item in data:\n",
    "            "
   ]
  },
  {
   "cell_type": "code",
   "execution_count": 3,
   "metadata": {},
   "outputs": [
    {
     "ename": "NameError",
     "evalue": "name 'game_dict' is not defined",
     "output_type": "error",
     "traceback": [
      "\u001b[0;31m---------------------------------------------------------------------------\u001b[0m",
      "\u001b[0;31mNameError\u001b[0m                                 Traceback (most recent call last)",
      "\u001b[0;32m<ipython-input-3-ad4ffd4e0129>\u001b[0m in \u001b[0;36m<module>\u001b[0;34m\u001b[0m\n\u001b[0;32m----> 1\u001b[0;31m \u001b[0mgood_practices\u001b[0m\u001b[0;34m(\u001b[0m\u001b[0;34m)\u001b[0m\u001b[0;34m\u001b[0m\u001b[0;34m\u001b[0m\u001b[0m\n\u001b[0m",
      "\u001b[0;32m<ipython-input-2-398bf8c11bdc>\u001b[0m in \u001b[0;36mgood_practices\u001b[0;34m()\u001b[0m\n\u001b[1;32m      1\u001b[0m \u001b[0;32mdef\u001b[0m \u001b[0mgood_practices\u001b[0m\u001b[0;34m(\u001b[0m\u001b[0;34m)\u001b[0m\u001b[0;34m:\u001b[0m\u001b[0;34m\u001b[0m\u001b[0;34m\u001b[0m\u001b[0m\n\u001b[0;32m----> 2\u001b[0;31m     \u001b[0;32mfor\u001b[0m \u001b[0mteam_name\u001b[0m\u001b[0;34m,\u001b[0m \u001b[0mplayers\u001b[0m \u001b[0;32min\u001b[0m \u001b[0mgame_dict\u001b[0m\u001b[0;34m(\u001b[0m\u001b[0;34m)\u001b[0m\u001b[0;34m.\u001b[0m\u001b[0mitems\u001b[0m\u001b[0;34m(\u001b[0m\u001b[0;34m)\u001b[0m\u001b[0;34m:\u001b[0m\u001b[0;34m\u001b[0m\u001b[0;34m\u001b[0m\u001b[0m\n\u001b[0m\u001b[1;32m      3\u001b[0m     \u001b[0;31m# are you ABSOLUTELY SURE what 'location' and 'team_stats' are? use pdb.set_trace() to find out!\u001b[0m\u001b[0;34m\u001b[0m\u001b[0;34m\u001b[0m\u001b[0;34m\u001b[0m\u001b[0m\n\u001b[1;32m      4\u001b[0m         \u001b[0;32mimport\u001b[0m \u001b[0mpdb\u001b[0m\u001b[0;34m;\u001b[0m \u001b[0mpdb\u001b[0m\u001b[0;34m.\u001b[0m\u001b[0mset_trace\u001b[0m\u001b[0;34m(\u001b[0m\u001b[0;34m)\u001b[0m\u001b[0;34m\u001b[0m\u001b[0;34m\u001b[0m\u001b[0m\n\u001b[1;32m      5\u001b[0m         \u001b[0mprint\u001b[0m\u001b[0;34m(\u001b[0m\u001b[0mitem\u001b[0m\u001b[0;34m)\u001b[0m\u001b[0;34m\u001b[0m\u001b[0;34m\u001b[0m\u001b[0m\n",
      "\u001b[0;31mNameError\u001b[0m: name 'game_dict' is not defined"
     ]
    }
   ],
   "source": [
    "good_practices()"
   ]
  },
  {
   "cell_type": "markdown",
   "metadata": {},
   "source": [
    "## Instructions\n",
    "\n",
    "Great news! You're going to an NBA game. The only catch is that you've been volunteered to keep stats at the game.\n",
    "Fork and clone this lab and run the test suite to get started. You'll be coding your solution in `dictionaryball.py`."
   ]
  },
  {
   "cell_type": "markdown",
   "metadata": {},
   "source": [
    "## Objectives\n",
    "1. Practice building nested dictionaries\n",
    "2. Practice iterating over nested dictionaries and lists"
   ]
  },
  {
   "cell_type": "markdown",
   "metadata": {},
   "source": [
    "### Part 1: Building the Dictionary\n",
    "\n",
    "The first step is to build the dictionary itself! (If you're comfortable with dictionaries and don't want to manual create a dictionary - it is available in dictionary.py) We will need to assign the dictionary to a variable, let's call it `game_dictionary`. This nested dictionary should be constructed in the following manner:\n",
    "\n",
    "* The top level of the dictionary has two keys: `home`, for the home team, and `away`, for the away team.\n",
    "* The values of the `home` and `away` keys are dictionaries. These dictionaries have the following keys:\n",
    "  * `team_name`\n",
    "  * `colors`\n",
    "  * `players`\n",
    "  \n",
    "\n",
    "* The `team_name` key points to a string of the team name.\n",
    "* The `colors` key points to a list of strings that are that team's colors.\n",
    "* The `players` key points to a dictionary of players whose names (as strings) are the keys to a dictionary containing their stats. The values for each player's names and their stats can be found in the table below. The stats keys should be formatted like this:\n",
    "    * `number`\n",
    "    * `shoe`\n",
    "    * `points`\n",
    "    * `rebounds`\n",
    "    * `assists`\n",
    "    * `steals`\n",
    "    * `blocks`\n",
    "    * `slam_dunks`"
   ]
  },
  {
   "cell_type": "markdown",
   "metadata": {},
   "source": [
    "Use the following data to populate your `game_dictionary` as outlined above.\n",
    "\n",
    "Home Team:\n",
    "\n",
    "* team name: Brooklyn Nets\n",
    "* colors: Black, White\n",
    "* players:\n",
    "\n",
    "\n",
    "|          Stat          | Info | Info |  Info | Info | Info   |\n",
    "|:------------------:|:-------------:|:------------:|:------------:|:-------------:|:-------------:|\n",
    "| **Player Name**    |  Alan Anderson| Reggie Evans | Brook Lopez  | Mason Plumlee | Jason Terry   |\n",
    "| **Number**         | 0             | 30           | 11           | 1             | 31            |\n",
    "| **Shoe**           | 16            | 14           | 17           | 19            | 15            |\n",
    "| **Points**         | 22            | 12           | 17           | 26            | 19            |\n",
    "| **Rebounds**       | 12            | 12           | 19           | 12            | 2             |\n",
    "| **Assists**        | 12            | 12           | 10           | 6             | 2             |\n",
    "| **Steals**         | 3             | 12           | 3            | 3             | 4             |\n",
    "| **Blocks**         | 1             | 12           | 1            | 8             | 11            |\n",
    "| **Slam Dunks**     | 1             | 7            | 15           | 5             | 1             |\n",
    "\n",
    "\n",
    "Away Team:\n",
    "\n",
    "* team name: Charlotte Hornets\n",
    "* colors: Turquoise, Purple\n",
    "* players:\n",
    "\n",
    "|        Stat       |     Info          |         Info     |              Info |         Info     |         Info      |               \n",
    "|:------------------:|:-----------------:|:-----------------:|:-----------------:|:---------------:|:-----------------:|\n",
    "| **Player Name**  | Jeff Adrien     | Bismak Biyombo    | DeSagna Diop      | Ben Gordon      | Brendan Haywood   |\n",
    "| **Number**         | 4                 | 0                 | 2                 | 8               | 33                |\n",
    "| **Shoe**           | 18                | 16                | 14                | 15              | 15                |\n",
    "| **Points**         | 10                | 12                | 24                | 33              | 6                 |\n",
    "| **Rebounds**       | 1                 | 4                 | 12                | 3               | 12                |\n",
    "| **Assists**        | 1                 | 7                 | 12                | 2               | 12                |\n",
    "| **Steals**         | 2                 | 7                 | 4                 | 1               | 22                |\n",
    "| **Blocks**         | 7                 | 15                | 5                 | 1               | 5                 |\n",
    "| **Slam Dunks**     | 2                 | 10                | 5                 | 0               | 12                |"
   ]
  },
  {
   "cell_type": "markdown",
   "metadata": {},
   "source": [
    "### Step 2: Building Functions"
   ]
  },
  {
   "cell_type": "markdown",
   "metadata": {},
   "source": [
    "### Calling Functions within Functions\n",
    "\n",
    "You'll be building a series of functions that operate on the above game dictionary to return certain information about the teams and players. Each function will operate on the game dictionary by referencing the `game_dict` function. \n",
    "\n",
    "For example, let's say we want to build a function, `home_team_name`, that returns the name of the home team, `\"Brooklyn Nets\"`. We can call the function `game_dict` inside of our `home_team_name` function and operate on the game_dict:\n",
    "\n",
    "```python\n",
    "def home_team_name():\n",
    "  return game_dict()['home']['team_name']\n",
    "\n",
    "print(home_team_name()) # \"Brooklyn Nets\"\n",
    "```\n",
    "\n",
    "Now that we understand how we are going to operate on the `game_dict` inside of the functions we're building, let's build those functions:"
   ]
  },
  {
   "cell_type": "code",
   "execution_count": 5,
   "metadata": {},
   "outputs": [
    {
     "name": "stdout",
     "output_type": "stream",
     "text": [
      "Brooklyn Nets\n"
     ]
    }
   ],
   "source": [
    "print(game_dict()['home']['team_name'])"
   ]
  },
  {
   "cell_type": "code",
   "execution_count": 2,
   "metadata": {},
   "outputs": [],
   "source": [
    "def game_dict():\n",
    "    return game_dictionary"
   ]
  },
  {
   "cell_type": "markdown",
   "metadata": {},
   "source": [
    "### Iterating through Nested Levels:\n",
    "\n",
    "This lab requires us to iterate through the many levels of our nested dictionary. **Don't take your understanding of your dictionary for granted.** Every time you iterate into a new level of the dictionary, immediately place a `import pdb; pdb.set_trace()` there. Then, run your function to see what the key/value pairs of that dictionary are.\n",
    "\n",
    "> **hint:** to run the function, call it at the bottom of your file and run the file from your terminal with the following command: `python dictionaryball.py`\n",
    "\n",
    "Let's take a look at an example:\n",
    "\n",
    "```python\n",
    "def good_practices():\n",
    "  for location, team_stats in game_dict().items():\n",
    "    # are you ABSOLUTELY SURE what 'location' and 'team_stats' are? use pdb.set_trace() to find out!\n",
    "    import pdb; pdb.set_trace()\n",
    "      for stats, data in team_stats.items():\n",
    "        # are you ABSOLUTELY SURE what 'stats' and 'data' are? use pdb.set_trace() to find out!\n",
    "        import pdb; pdb.set_trace()\n",
    "        # what is 'data' at each level of the for loop block? when will we be able to iterate through a list? \n",
    "        # When would the following line of code break?\n",
    "        for item in data:\n",
    "            print(item)\n",
    "```\n",
    "\n",
    "Open up the `dictionaryball.py` and copy and paste the above function. Then, at the bottom of the file, call the function (`good_practices()`) and, in your terminal, run the file with `python dictionaryball.py`. Play around with the values at each level of the function until you get comfortable with the iteration. To continue to the next pdb trace, you can enter `c` in your terminal. This practice should give you a stronger sense of how we iterate through so many levels of a nested dictionary and what happens on each level. If you find yourself getting stuck in building out other functions, try using this method of adding in pdb traces to check the values of your for loop variables.\n",
    "\n",
    "Okay, ***now*** we're ready to build out functions:"
   ]
  },
  {
   "cell_type": "code",
   "execution_count": null,
   "metadata": {},
   "outputs": [],
   "source": [
    "from dictionaryball import *"
   ]
  },
  {
   "cell_type": "code",
   "execution_count": null,
   "metadata": {},
   "outputs": [],
   "source": [
    "game_dictionary['home']"
   ]
  },
  {
   "cell_type": "code",
   "execution_count": 8,
   "metadata": {},
   "outputs": [],
   "source": [
    "def num_points_scored(name):\n",
    "    for location, team_stats in game_dict().items():\n",
    "        for stats, data in team_stats.items(): \n",
    "                for item in data:\n",
    "                    if item == name:\n",
    "                        return game_dict()[location][stats][item]['points']\n",
    "        "
   ]
  },
  {
   "cell_type": "code",
   "execution_count": 9,
   "metadata": {},
   "outputs": [
    {
     "data": {
      "text/plain": [
       "12"
      ]
     },
     "execution_count": 9,
     "metadata": {},
     "output_type": "execute_result"
    }
   ],
   "source": [
    "num_points_scored('Reggie Evans')"
   ]
  },
  {
   "cell_type": "markdown",
   "metadata": {},
   "source": [
    "### Function Building\n",
    "\n",
    "* Build a function, `num_points_scored` that takes in an argument of a player's name and returns the number of points scored for that player.\n",
    "  * Think about where in the dictionary you will find a player's `points`. How can you iterate down into that level? Think about the return value of your function.\n",
    "\n",
    "* Build a function, `shoe_size`, that takes in an argument of a player's name and returns the shoe size for that player.\n",
    "  * Think about how you will find the shoe size of the correct player. How can you check and see if a player's name matches the name that has been passed into the function as an argument?\n",
    "  \n",
    "* Build a function, `team_colors`, that takes in an argument of the team name and returns a list of that teams colors.\n",
    "\n",
    "* Build a function, `team_names`, that operates on the game dictionary to return a list of the team names.\n",
    "\n",
    "* Build a function, `player_numbers`, that takes in an argument of a team name and returns a list of the jersey number's for that team.\n",
    "\n",
    "* Build a function, `player_stats`, that takes in an argument of a player's name and returns a dictionary of that player's stats.\n",
    "  * Check out the following example of the expected return value of the `player_stats` function:\n",
    "\n",
    "```python\n",
    "player_stats(\"Alan Anderson\")\n",
    "# {'number': 0, 'shoe': 16, 'points': 22, 'rebounds': 12, 'assists': 12, 'steals': 3, 'blocks': 1, 'slam_dunks': 1}\n",
    "```\n",
    "\n",
    "* Build a function, `big_shoe_rebounds`, that will return the number of rebounds associated with the player that has the largest shoe size. Break this one down into steps:\n",
    "  * First, find the player with the largest shoe size\n",
    "  * Then, return that player's number of rebounds\n",
    "  * Remember to think about return values here. Use pdb traces to drop into your function and understand what it is returning and why."
   ]
  },
  {
   "cell_type": "code",
   "execution_count": 10,
   "metadata": {},
   "outputs": [],
   "source": [
    "def big_shoe_rebounds():\n",
    "    player_shoe_size = []\n",
    "    for location, team_stats in game_dict().items():\n",
    "            for players, player_stats in game_dict()[location]['players'].items():\n",
    "                player_shoe_size.append(player_stats['shoe'])\n",
    "                \n",
    "    max_shoe = max(player_shoe_size)\n",
    "\n",
    "    for location, team_stats in game_dict().items():\n",
    "            for players, player_stats in game_dict()[location]['players'].items():\n",
    "                if player_stats['shoe'] == max_shoe:\n",
    "                    return \"{} has the biggest shoe size and {} rebounds\".format(players, player_stats['rebounds'])\n",
    "                "
   ]
  },
  {
   "cell_type": "code",
   "execution_count": 371,
   "metadata": {},
   "outputs": [],
   "source": [
    "# def shoe_size(name):\n",
    "#     for location, team_stats in game_dict().items():\n",
    "#         for stats, data in team_stats.items(): \n",
    "#                 for item in data:\n",
    "#                     if item == name:\n",
    "#                         return game_dict()[location][stats][item]['shoe']  "
   ]
  },
  {
   "cell_type": "code",
   "execution_count": 11,
   "metadata": {},
   "outputs": [
    {
     "data": {
      "text/plain": [
       "'Mason Plumlee has the biggest shoe size and 12 rebounds'"
      ]
     },
     "execution_count": 11,
     "metadata": {},
     "output_type": "execute_result"
    }
   ],
   "source": [
    "big_shoe_rebounds()"
   ]
  },
  {
   "cell_type": "code",
   "execution_count": 344,
   "metadata": {},
   "outputs": [],
   "source": [
    "# def player_stats(player_name):\n",
    "#     jersey_numbers = []\n",
    "#     for location, team_stats in game_dict().items():\n",
    "#         for stats, data in team_stats.items():\n",
    "#             if data == team_name:\n",
    "#                 for player in data:\n",
    "#                     jersey_numbers.append(game_dict()[location]['players'])\n",
    "#     print(jersey_numbers)\n",
    "            \n",
    "\n",
    "# def player_stats(player_name):\n",
    "#     jersey_numbers = []\n",
    "#     for location, team_stats in game_dict().items():\n",
    "#         for stats, data in team_stats.items():\n",
    "#             #if data == team_name:\n",
    "#                 for item in data:\n",
    "#                     #print(item)\n",
    "#                     print(game_dict()[location][stats][item]['number'])\n",
    "                    \n",
    "#                     #print(jersey_numbers)\n",
    "\n",
    "def player_stats(name):\n",
    "    for location, team_stats in game_dict().items():\n",
    "        for stats, data in team_stats.items(): \n",
    "                for item in data:\n",
    "                    if item == name:\n",
    "                        return game_dict()[location][stats][item]  \n"
   ]
  },
  {
   "cell_type": "code",
   "execution_count": 345,
   "metadata": {},
   "outputs": [
    {
     "data": {
      "text/plain": [
       "{'number': 0,\n",
       " 'shoe': 16,\n",
       " 'points': 22,\n",
       " 'rebounds': 12,\n",
       " 'assists': 12,\n",
       " 'steals': 3,\n",
       " 'blocks': 1,\n",
       " 'slam_dunks': 1}"
      ]
     },
     "execution_count": 345,
     "metadata": {},
     "output_type": "execute_result"
    }
   ],
   "source": [
    "player_stats(\"Alan Anderson\")"
   ]
  },
  {
   "cell_type": "code",
   "execution_count": 340,
   "metadata": {},
   "outputs": [],
   "source": [
    "# def player_numbers(team_name):\n",
    "#     jersey_numbers = []\n",
    "#     for location, team_stats in game_dict().items():\n",
    "#         for stats, data in team_stats.items():\n",
    "#             if data == team_name:\n",
    "#                 for player in data:\n",
    "#                     jersey_numbers.append(game_dict()[location]['players'])\n",
    "#     print(jersey_numbers)\n",
    "            \n",
    "\n",
    "# def player_numbers(team_name):\n",
    "#     jersey_numbers = []\n",
    "#     for location, team_stats in game_dict().items():\n",
    "#         for stats, data in team_stats.items():\n",
    "#             #if data == team_name:\n",
    "#                 for item in data:\n",
    "#                     #print(item)\n",
    "#                     print(game_dict()[location][stats][item]['number'])\n",
    "                    \n",
    "#                     #print(jersey_numbers)\n",
    "\n",
    "\n",
    "def player_numbers(team_name):\n",
    "    jersey_numbers = []\n",
    "    for location, team_stats in game_dict().items():\n",
    "        if game_dict()[location]['team_name'] == team_name:\n",
    "            for player, player_stats in game_dict()[location]['players'].items():\n",
    "                jersey_numbers.append(player_stats['number'])\n",
    "                \n",
    "    return jersey_numbers\n",
    "                \n",
    "                #for stat in player_stats:\n",
    "                    #print(stat)\n",
    "                    #jersey_numbers.append(stat)\n",
    "                #print(jersey_numbers)\n",
    "                #for k, v in player_stats:\n",
    "                    #print(k)\n",
    "                    #jersey_numbers.append(['number'])\n",
    "                \n",
    "                \n",
    "            #print(game_dict()[location]['players'])\n",
    "            #for players in data:\n",
    "                #print(players)\n",
    "            #if team_name == data:\n",
    "                #for item in data:\n",
    "                    \n",
    "                    #jersey_numbers.append(game_dict()[location]['player'])\n",
    "    #print(jersey_numbers)\n",
    "    \n",
    "                #jersey_numbers.append(game_dict()[location][stats]['number'])"
   ]
  },
  {
   "cell_type": "code",
   "execution_count": 343,
   "metadata": {},
   "outputs": [
    {
     "data": {
      "text/plain": [
       "[4, 0, 2, 8, 33]"
      ]
     },
     "execution_count": 343,
     "metadata": {},
     "output_type": "execute_result"
    }
   ],
   "source": [
    "player_numbers(\"Charlotte Hornets\")"
   ]
  },
  {
   "cell_type": "code",
   "execution_count": 32,
   "metadata": {},
   "outputs": [],
   "source": [
    "def shoe_size(name):\n",
    "    for location, team_stats in game_dict().items():\n",
    "        for stats, data in team_stats.items(): \n",
    "                for item in data:\n",
    "                    print(item)\n",
    "                    #if item == name:\n",
    "                        #return game_dict()[location][stats][item]['shoe']"
   ]
  },
  {
   "cell_type": "code",
   "execution_count": 33,
   "metadata": {},
   "outputs": [
    {
     "name": "stdout",
     "output_type": "stream",
     "text": [
      "B\n",
      "r\n",
      "o\n",
      "o\n",
      "k\n",
      "l\n",
      "y\n",
      "n\n",
      " \n",
      "N\n",
      "e\n",
      "t\n",
      "s\n",
      "Black\n",
      "White\n",
      "Alan Anderson\n",
      "Reggie Evans\n",
      "Brook Lopez\n",
      "Mason Plumlee\n",
      "Jason Terry\n",
      "C\n",
      "h\n",
      "a\n",
      "r\n",
      "l\n",
      "o\n",
      "t\n",
      "t\n",
      "e\n",
      " \n",
      "H\n",
      "o\n",
      "r\n",
      "n\n",
      "e\n",
      "t\n",
      "s\n",
      "Turquoise\n",
      "Purple\n",
      "Jeff Adrien\n",
      "Bismak Biyombo\n",
      "DeSagna Diop\n",
      "Ben Gordon\n",
      "Brendan Haywood\n"
     ]
    }
   ],
   "source": [
    "shoe_size(\"Alan Anderson\")"
   ]
  },
  {
   "cell_type": "code",
   "execution_count": 21,
   "metadata": {},
   "outputs": [],
   "source": [
    "def team_colors(team_name):\n",
    "    for location, team_stats in game_dict().items():\n",
    "        for stats, data in team_stats.items(): \n",
    "            #print(data)\n",
    "            if data == team_name:\n",
    "                print(game_dict()[location]['colors'])\n",
    "            \n",
    "    \n",
    "#     for team_stats in game_dict():\n",
    "#         if team_name in game_dict()['home']['team_name']:\n",
    "#             return game_dict()['home']['colors']\n",
    "        #else:\n",
    "            #return game_dict()['away']['colors']\n",
    "        \n",
    "        \n",
    "#         for stats, data in team_stats.items(): \n",
    "#             print(data)\n",
    "            #if data == team_name:\n",
    "                #print(data['colors'])\n",
    "                #print(game_dict()[location][stats]['colors'])\n",
    "                #return game_dict()[location][data]['colors']\n",
    "            #if data == team_name:\n",
    "                #print(game_dict()[location][data]['colors'])\n",
    "            #print(data)\n",
    "            #game_dict()[location][data]['colors']\n",
    "            #print(data)"
   ]
  },
  {
   "cell_type": "code",
   "execution_count": 22,
   "metadata": {},
   "outputs": [
    {
     "name": "stdout",
     "output_type": "stream",
     "text": [
      "['Turquoise', 'Purple']\n"
     ]
    }
   ],
   "source": [
    "team_colors('Charlotte Hornets')"
   ]
  },
  {
   "cell_type": "code",
   "execution_count": 164,
   "metadata": {},
   "outputs": [],
   "source": [
    "# def team_names():\n",
    "#     for location, team_stats in game_dict().items():\n",
    "#         for stats, data in team_stats.items(): \n",
    "#             #print(data)\n",
    "#             print(game_dict()[location]['team_name'])\n",
    "            \n",
    "def team_names():\n",
    "    for location, team_stats in game_dict().items():\n",
    "         print(game_dict()[location]['team_name'])"
   ]
  },
  {
   "cell_type": "code",
   "execution_count": 165,
   "metadata": {},
   "outputs": [
    {
     "name": "stdout",
     "output_type": "stream",
     "text": [
      "Brooklyn Nets\n",
      "Charlotte Hornets\n"
     ]
    }
   ],
   "source": [
    "team_names()"
   ]
  },
  {
   "cell_type": "markdown",
   "metadata": {},
   "source": [
    "> **hint:** If you find yourself repeating code from one function to the next, that is a good time to create a `helper function` that does just that one job for you. Then you can call that helper function in another function instead of re-writing the code you need."
   ]
  },
  {
   "cell_type": "markdown",
   "metadata": {},
   "source": [
    "## Bonus"
   ]
  },
  {
   "cell_type": "markdown",
   "metadata": {},
   "source": [
    "Define functions to return the answer to the following questions:\n",
    "\n",
    "1. Which player has the most points? Call the function `most_points_scored`.\n",
    "\n",
    "2. Which team has the most points? Call the function `winning_team`.\n",
    "\n",
    "3. Which player has the longest name? Call the function `player_with_longest_name`.\n",
    "\n",
    "**Super Bonus:**\n",
    "\n",
    "1. Write a function that returns true if the player with the longest name had the most steals. Call the function `long_name_steals_a_ton?`."
   ]
  },
  {
   "cell_type": "code",
   "execution_count": 12,
   "metadata": {},
   "outputs": [],
   "source": [
    "def most_points_scored():\n",
    "    player_max_points = []\n",
    "    for location, team_stats in game_dict().items():\n",
    "            for players, player_stats in game_dict()[location]['players'].items():\n",
    "                player_max_points.append(player_stats['points'])\n",
    "                \n",
    "    max_point = max(player_max_points)\n",
    "    #return max_point\n",
    "    \n",
    "    for location, team_stats in game_dict().items():\n",
    "            for players, player_stats in game_dict()[location]['players'].items():\n",
    "                if player_stats['points'] == max_point:\n",
    "                    return \"{} has the max points with {} points\".format(players, player_stats['points'])\n"
   ]
  },
  {
   "cell_type": "code",
   "execution_count": 13,
   "metadata": {},
   "outputs": [
    {
     "data": {
      "text/plain": [
       "'Ben Gordon has the max points with 33 points'"
      ]
     },
     "execution_count": 13,
     "metadata": {},
     "output_type": "execute_result"
    }
   ],
   "source": [
    "most_points_scored()"
   ]
  },
  {
   "cell_type": "code",
   "execution_count": 459,
   "metadata": {},
   "outputs": [],
   "source": [
    "def winning_team():\n",
    "    team_1 = []\n",
    "    team_2 = []\n",
    "    \n",
    "    for location, team_stats in game_dict().items():\n",
    "        if location == 'home':\n",
    "            for player, player_stats in game_dict()[location]['players'].items():\n",
    "                #print(player)\n",
    "                team_1.append(player_stats['points']) \n",
    "                \n",
    "                \n",
    "                \n",
    "    for location, team_stats in game_dict().items():\n",
    "        if location == 'away':\n",
    "            for player, player_stats in game_dict()[location]['players'].items():\n",
    "                #print(player)\n",
    "                team_2.append(player_stats['points'])              \n",
    "                \n",
    "    team_1 = sum(team_1)  \n",
    "    team_2 = sum(team_2)\n",
    "    \n",
    "    if team_1 > team_2:\n",
    "        return \"team_1 won with {} points\".format(team_1)\n",
    "    \n",
    "    elif team_1 == team_2:\n",
    "        return \"the two teams tied with {} points\".format(team_1)\n",
    "    \n",
    "    else:\n",
    "        return \"team_2 won with {} points\".format(team_2)\n",
    "    "
   ]
  },
  {
   "cell_type": "code",
   "execution_count": 460,
   "metadata": {},
   "outputs": [
    {
     "name": "stdout",
     "output_type": "stream",
     "text": [
      "85\n"
     ]
    }
   ],
   "source": [
    "winning_team()"
   ]
  },
  {
   "cell_type": "code",
   "execution_count": 18,
   "metadata": {},
   "outputs": [],
   "source": [
    "def player_with_longest_name():\n",
    "    list_of_names = []\n",
    "    for location, team_stats in game_dict().items():\n",
    "            for player, player_stats in game_dict()[location]['players'].items():\n",
    "                list_of_names.append(player)\n",
    "                \n",
    "            return max(list_of_names, key=len)\n",
    "        \n",
    "                \n",
    "    #return list_of_names"
   ]
  },
  {
   "cell_type": "code",
   "execution_count": 19,
   "metadata": {},
   "outputs": [
    {
     "data": {
      "text/plain": [
       "'Alan Anderson'"
      ]
     },
     "execution_count": 19,
     "metadata": {},
     "output_type": "execute_result"
    }
   ],
   "source": [
    "player_with_longest_name()"
   ]
  },
  {
   "cell_type": "code",
   "execution_count": null,
   "metadata": {},
   "outputs": [],
   "source": []
  }
 ],
 "metadata": {
  "kernelspec": {
   "display_name": "learn-env",
   "language": "python",
   "name": "learn-env"
  },
  "language_info": {
   "codemirror_mode": {
    "name": "ipython",
    "version": 3
   },
   "file_extension": ".py",
   "mimetype": "text/x-python",
   "name": "python",
   "nbconvert_exporter": "python",
   "pygments_lexer": "ipython3",
   "version": "3.7.3"
  }
 },
 "nbformat": 4,
 "nbformat_minor": 2
}
