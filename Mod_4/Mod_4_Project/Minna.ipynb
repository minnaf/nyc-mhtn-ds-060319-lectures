{
 "cells": [
  {
   "cell_type": "markdown",
   "metadata": {},
   "source": [
    "# Mod 4 Project\n",
    "\n",
    "\n",
    "\n",
    "# Step 1: Load the Data/Filtering for Chosen Zipcodes"
   ]
  },
  {
   "cell_type": "code",
   "execution_count": 1,
   "metadata": {},
   "outputs": [],
   "source": [
    "import pandas as pd"
   ]
  },
  {
   "cell_type": "code",
   "execution_count": 2,
   "metadata": {},
   "outputs": [],
   "source": [
    "df = pd.read_csv('zillow_data.csv')"
   ]
  },
  {
   "cell_type": "code",
   "execution_count": 3,
   "metadata": {},
   "outputs": [
    {
     "data": {
      "text/plain": [
       "(14723, 272)"
      ]
     },
     "execution_count": 3,
     "metadata": {},
     "output_type": "execute_result"
    }
   ],
   "source": [
    "df.shape"
   ]
  },
  {
   "cell_type": "code",
   "execution_count": 4,
   "metadata": {
    "scrolled": false
   },
   "outputs": [
    {
     "data": {
      "text/html": [
       "<div>\n",
       "<style scoped>\n",
       "    .dataframe tbody tr th:only-of-type {\n",
       "        vertical-align: middle;\n",
       "    }\n",
       "\n",
       "    .dataframe tbody tr th {\n",
       "        vertical-align: top;\n",
       "    }\n",
       "\n",
       "    .dataframe thead th {\n",
       "        text-align: right;\n",
       "    }\n",
       "</style>\n",
       "<table border=\"1\" class=\"dataframe\">\n",
       "  <thead>\n",
       "    <tr style=\"text-align: right;\">\n",
       "      <th></th>\n",
       "      <th>RegionID</th>\n",
       "      <th>RegionName</th>\n",
       "      <th>City</th>\n",
       "      <th>State</th>\n",
       "      <th>Metro</th>\n",
       "      <th>CountyName</th>\n",
       "      <th>SizeRank</th>\n",
       "      <th>1996-04</th>\n",
       "      <th>1996-05</th>\n",
       "      <th>1996-06</th>\n",
       "      <th>...</th>\n",
       "      <th>2017-07</th>\n",
       "      <th>2017-08</th>\n",
       "      <th>2017-09</th>\n",
       "      <th>2017-10</th>\n",
       "      <th>2017-11</th>\n",
       "      <th>2017-12</th>\n",
       "      <th>2018-01</th>\n",
       "      <th>2018-02</th>\n",
       "      <th>2018-03</th>\n",
       "      <th>2018-04</th>\n",
       "    </tr>\n",
       "  </thead>\n",
       "  <tbody>\n",
       "    <tr>\n",
       "      <th>0</th>\n",
       "      <td>84654</td>\n",
       "      <td>60657</td>\n",
       "      <td>Chicago</td>\n",
       "      <td>IL</td>\n",
       "      <td>Chicago</td>\n",
       "      <td>Cook</td>\n",
       "      <td>1</td>\n",
       "      <td>334200.0</td>\n",
       "      <td>335400.0</td>\n",
       "      <td>336500.0</td>\n",
       "      <td>...</td>\n",
       "      <td>1005500</td>\n",
       "      <td>1007500</td>\n",
       "      <td>1007800</td>\n",
       "      <td>1009600</td>\n",
       "      <td>1013300</td>\n",
       "      <td>1018700</td>\n",
       "      <td>1024400</td>\n",
       "      <td>1030700</td>\n",
       "      <td>1033800</td>\n",
       "      <td>1030600</td>\n",
       "    </tr>\n",
       "    <tr>\n",
       "      <th>1</th>\n",
       "      <td>90668</td>\n",
       "      <td>75070</td>\n",
       "      <td>McKinney</td>\n",
       "      <td>TX</td>\n",
       "      <td>Dallas-Fort Worth</td>\n",
       "      <td>Collin</td>\n",
       "      <td>2</td>\n",
       "      <td>235700.0</td>\n",
       "      <td>236900.0</td>\n",
       "      <td>236700.0</td>\n",
       "      <td>...</td>\n",
       "      <td>308000</td>\n",
       "      <td>310000</td>\n",
       "      <td>312500</td>\n",
       "      <td>314100</td>\n",
       "      <td>315000</td>\n",
       "      <td>316600</td>\n",
       "      <td>318100</td>\n",
       "      <td>319600</td>\n",
       "      <td>321100</td>\n",
       "      <td>321800</td>\n",
       "    </tr>\n",
       "  </tbody>\n",
       "</table>\n",
       "<p>2 rows × 272 columns</p>\n",
       "</div>"
      ],
      "text/plain": [
       "   RegionID  RegionName      City State              Metro CountyName  \\\n",
       "0     84654       60657   Chicago    IL            Chicago       Cook   \n",
       "1     90668       75070  McKinney    TX  Dallas-Fort Worth     Collin   \n",
       "\n",
       "   SizeRank   1996-04   1996-05   1996-06  ...  2017-07  2017-08  2017-09  \\\n",
       "0         1  334200.0  335400.0  336500.0  ...  1005500  1007500  1007800   \n",
       "1         2  235700.0  236900.0  236700.0  ...   308000   310000   312500   \n",
       "\n",
       "   2017-10  2017-11  2017-12  2018-01  2018-02  2018-03  2018-04  \n",
       "0  1009600  1013300  1018700  1024400  1030700  1033800  1030600  \n",
       "1   314100   315000   316600   318100   319600   321100   321800  \n",
       "\n",
       "[2 rows x 272 columns]"
      ]
     },
     "execution_count": 4,
     "metadata": {},
     "output_type": "execute_result"
    }
   ],
   "source": [
    "df.head(2)"
   ]
  },
  {
   "cell_type": "markdown",
   "metadata": {},
   "source": [
    "# Step 2: Data Preprocessing"
   ]
  },
  {
   "cell_type": "code",
   "execution_count": 5,
   "metadata": {},
   "outputs": [],
   "source": [
    "def get_datetimes(df):\n",
    "    return pd.to_datetime(df.columns.values[7:], format='%Y-%m')"
   ]
  },
  {
   "cell_type": "code",
   "execution_count": 6,
   "metadata": {
    "scrolled": true
   },
   "outputs": [
    {
     "data": {
      "text/plain": [
       "DatetimeIndex(['1996-04-01', '1996-05-01', '1996-06-01', '1996-07-01',\n",
       "               '1996-08-01', '1996-09-01', '1996-10-01', '1996-11-01',\n",
       "               '1996-12-01', '1997-01-01',\n",
       "               ...\n",
       "               '2017-07-01', '2017-08-01', '2017-09-01', '2017-10-01',\n",
       "               '2017-11-01', '2017-12-01', '2018-01-01', '2018-02-01',\n",
       "               '2018-03-01', '2018-04-01'],\n",
       "              dtype='datetime64[ns]', length=265, freq=None)"
      ]
     },
     "execution_count": 6,
     "metadata": {},
     "output_type": "execute_result"
    }
   ],
   "source": [
    "get_datetimes(df)"
   ]
  },
  {
   "cell_type": "markdown",
   "metadata": {},
   "source": [
    "# Step 3: Reshape from Wide to Long Format"
   ]
  },
  {
   "cell_type": "code",
   "execution_count": 7,
   "metadata": {},
   "outputs": [],
   "source": [
    "def melt_data(df):\n",
    "    id_var = list(df.columns[:7])\n",
    "    melted = pd.melt(df, id_vars= id_var, var_name='time')\n",
    "    melted['time'] = pd.to_datetime(melted['time'], infer_datetime_format=True)\n",
    "    melted = melted.dropna(subset=['value'])\n",
    "    return melted\n",
    "    "
   ]
  },
  {
   "cell_type": "code",
   "execution_count": 8,
   "metadata": {},
   "outputs": [],
   "source": [
    "df = melt_data(df)"
   ]
  },
  {
   "cell_type": "code",
   "execution_count": 9,
   "metadata": {
    "scrolled": true
   },
   "outputs": [
    {
     "data": {
      "text/html": [
       "<div>\n",
       "<style scoped>\n",
       "    .dataframe tbody tr th:only-of-type {\n",
       "        vertical-align: middle;\n",
       "    }\n",
       "\n",
       "    .dataframe tbody tr th {\n",
       "        vertical-align: top;\n",
       "    }\n",
       "\n",
       "    .dataframe thead th {\n",
       "        text-align: right;\n",
       "    }\n",
       "</style>\n",
       "<table border=\"1\" class=\"dataframe\">\n",
       "  <thead>\n",
       "    <tr style=\"text-align: right;\">\n",
       "      <th></th>\n",
       "      <th>RegionID</th>\n",
       "      <th>RegionName</th>\n",
       "      <th>City</th>\n",
       "      <th>State</th>\n",
       "      <th>Metro</th>\n",
       "      <th>CountyName</th>\n",
       "      <th>SizeRank</th>\n",
       "      <th>time</th>\n",
       "      <th>value</th>\n",
       "    </tr>\n",
       "  </thead>\n",
       "  <tbody>\n",
       "    <tr>\n",
       "      <th>0</th>\n",
       "      <td>84654</td>\n",
       "      <td>60657</td>\n",
       "      <td>Chicago</td>\n",
       "      <td>IL</td>\n",
       "      <td>Chicago</td>\n",
       "      <td>Cook</td>\n",
       "      <td>1</td>\n",
       "      <td>1996-04-01</td>\n",
       "      <td>334200.0</td>\n",
       "    </tr>\n",
       "    <tr>\n",
       "      <th>1</th>\n",
       "      <td>90668</td>\n",
       "      <td>75070</td>\n",
       "      <td>McKinney</td>\n",
       "      <td>TX</td>\n",
       "      <td>Dallas-Fort Worth</td>\n",
       "      <td>Collin</td>\n",
       "      <td>2</td>\n",
       "      <td>1996-04-01</td>\n",
       "      <td>235700.0</td>\n",
       "    </tr>\n",
       "    <tr>\n",
       "      <th>2</th>\n",
       "      <td>91982</td>\n",
       "      <td>77494</td>\n",
       "      <td>Katy</td>\n",
       "      <td>TX</td>\n",
       "      <td>Houston</td>\n",
       "      <td>Harris</td>\n",
       "      <td>3</td>\n",
       "      <td>1996-04-01</td>\n",
       "      <td>210400.0</td>\n",
       "    </tr>\n",
       "    <tr>\n",
       "      <th>3</th>\n",
       "      <td>84616</td>\n",
       "      <td>60614</td>\n",
       "      <td>Chicago</td>\n",
       "      <td>IL</td>\n",
       "      <td>Chicago</td>\n",
       "      <td>Cook</td>\n",
       "      <td>4</td>\n",
       "      <td>1996-04-01</td>\n",
       "      <td>498100.0</td>\n",
       "    </tr>\n",
       "    <tr>\n",
       "      <th>4</th>\n",
       "      <td>93144</td>\n",
       "      <td>79936</td>\n",
       "      <td>El Paso</td>\n",
       "      <td>TX</td>\n",
       "      <td>El Paso</td>\n",
       "      <td>El Paso</td>\n",
       "      <td>5</td>\n",
       "      <td>1996-04-01</td>\n",
       "      <td>77300.0</td>\n",
       "    </tr>\n",
       "  </tbody>\n",
       "</table>\n",
       "</div>"
      ],
      "text/plain": [
       "   RegionID  RegionName      City State              Metro CountyName  \\\n",
       "0     84654       60657   Chicago    IL            Chicago       Cook   \n",
       "1     90668       75070  McKinney    TX  Dallas-Fort Worth     Collin   \n",
       "2     91982       77494      Katy    TX            Houston     Harris   \n",
       "3     84616       60614   Chicago    IL            Chicago       Cook   \n",
       "4     93144       79936   El Paso    TX            El Paso    El Paso   \n",
       "\n",
       "   SizeRank       time     value  \n",
       "0         1 1996-04-01  334200.0  \n",
       "1         2 1996-04-01  235700.0  \n",
       "2         3 1996-04-01  210400.0  \n",
       "3         4 1996-04-01  498100.0  \n",
       "4         5 1996-04-01   77300.0  "
      ]
     },
     "execution_count": 9,
     "metadata": {},
     "output_type": "execute_result"
    }
   ],
   "source": [
    "df.head()"
   ]
  },
  {
   "cell_type": "code",
   "execution_count": 10,
   "metadata": {
    "scrolled": false
   },
   "outputs": [
    {
     "data": {
      "text/html": [
       "<div>\n",
       "<style scoped>\n",
       "    .dataframe tbody tr th:only-of-type {\n",
       "        vertical-align: middle;\n",
       "    }\n",
       "\n",
       "    .dataframe tbody tr th {\n",
       "        vertical-align: top;\n",
       "    }\n",
       "\n",
       "    .dataframe thead th {\n",
       "        text-align: right;\n",
       "    }\n",
       "</style>\n",
       "<table border=\"1\" class=\"dataframe\">\n",
       "  <thead>\n",
       "    <tr style=\"text-align: right;\">\n",
       "      <th></th>\n",
       "      <th>value</th>\n",
       "    </tr>\n",
       "    <tr>\n",
       "      <th>time</th>\n",
       "      <th></th>\n",
       "    </tr>\n",
       "  </thead>\n",
       "  <tbody>\n",
       "    <tr>\n",
       "      <th>1996-04-01</th>\n",
       "      <td>118299.123063</td>\n",
       "    </tr>\n",
       "    <tr>\n",
       "      <th>1996-05-01</th>\n",
       "      <td>118419.044139</td>\n",
       "    </tr>\n",
       "    <tr>\n",
       "      <th>1996-06-01</th>\n",
       "      <td>118537.423268</td>\n",
       "    </tr>\n",
       "    <tr>\n",
       "      <th>1996-07-01</th>\n",
       "      <td>118653.069278</td>\n",
       "    </tr>\n",
       "    <tr>\n",
       "      <th>1996-08-01</th>\n",
       "      <td>118780.254312</td>\n",
       "    </tr>\n",
       "  </tbody>\n",
       "</table>\n",
       "</div>"
      ],
      "text/plain": [
       "                    value\n",
       "time                     \n",
       "1996-04-01  118299.123063\n",
       "1996-05-01  118419.044139\n",
       "1996-06-01  118537.423268\n",
       "1996-07-01  118653.069278\n",
       "1996-08-01  118780.254312"
      ]
     },
     "execution_count": 10,
     "metadata": {},
     "output_type": "execute_result"
    }
   ],
   "source": [
    "time_series = df.groupby('time').aggregate({'value':'mean'})\n",
    "time_series.head()"
   ]
  },
  {
   "cell_type": "markdown",
   "metadata": {},
   "source": [
    "# Step 4: EDA and Visualization"
   ]
  },
  {
   "cell_type": "markdown",
   "metadata": {},
   "source": [
    "(1) find stantionarity in time series \n",
    "(2) use ARIMA to combine time series data with regression parameters "
   ]
  },
  {
   "cell_type": "code",
   "execution_count": 11,
   "metadata": {},
   "outputs": [],
   "source": [
    "import matplotlib\n",
    "import matplotlib.pyplot as plt\n",
    "import warnings\n",
    "warnings.filterwarnings('ignore')\n",
    "%matplotlib inline"
   ]
  },
  {
   "cell_type": "code",
   "execution_count": 12,
   "metadata": {},
   "outputs": [],
   "source": [
    "font = {'family' : 'normal',\n",
    "        'weight' : 'bold',\n",
    "        'size'   : 8}\n",
    "\n",
    "matplotlib.rc('font', **font)\n",
    "\n",
    "# NOTE: if you visualizations are too cluttered to read, try calling 'plt.gcf().autofmt_xdate()'!"
   ]
  },
  {
   "cell_type": "code",
   "execution_count": 13,
   "metadata": {},
   "outputs": [],
   "source": [
    "import seaborn as sns "
   ]
  },
  {
   "cell_type": "code",
   "execution_count": 14,
   "metadata": {},
   "outputs": [
    {
     "name": "stderr",
     "output_type": "stream",
     "text": [
      "/Users/minnafingerhood/anaconda3/lib/python3.7/site-packages/matplotlib/font_manager.py:1241: UserWarning: findfont: Font family ['normal'] not found. Falling back to DejaVu Sans.\n",
      "  (prop.get_family(), self.defaultFamily[fontext]))\n",
      "/Users/minnafingerhood/anaconda3/lib/python3.7/site-packages/matplotlib/font_manager.py:1241: UserWarning: findfont: Font family ['normal'] not found. Falling back to DejaVu Sans.\n",
      "  (prop.get_family(), self.defaultFamily[fontext]))\n"
     ]
    },
    {
     "data": {
      "image/png": "[encoded data removed]",
      "text/plain": [
       "<Figure size 432x288 with 1 Axes>"
      ]
     },
     "metadata": {
      "needs_background": "light"
     },
     "output_type": "display_data"
    }
   ],
   "source": [
    "time_series.plot()\n",
    "plt.show()"
   ]
  },
  {
   "cell_type": "code",
   "execution_count": 15,
   "metadata": {},
   "outputs": [
    {
     "ename": "NameError",
     "evalue": "name 'plot_acf' is not defined",
     "output_type": "error",
     "traceback": [
      "\u001b[0;31m---------------------------------------------------------------------------\u001b[0m",
      "\u001b[0;31mNameError\u001b[0m                                 Traceback (most recent call last)",
      "\u001b[0;32m<ipython-input-15-be7cb834cd7e>\u001b[0m in \u001b[0;36m<module>\u001b[0;34m\u001b[0m\n\u001b[0;32m----> 1\u001b[0;31m \u001b[0mplot_acf\u001b[0m\u001b[0;34m(\u001b[0m\u001b[0mtime_series\u001b[0m\u001b[0;34m,\u001b[0m \u001b[0malpha\u001b[0m \u001b[0;34m=\u001b[0m\u001b[0;36m.05\u001b[0m\u001b[0;34m)\u001b[0m \u001b[0;31m#geometric autocorrelation... MA = 0\u001b[0m\u001b[0;34m\u001b[0m\u001b[0;34m\u001b[0m\u001b[0m\n\u001b[0m\u001b[1;32m      2\u001b[0m \u001b[0mplt\u001b[0m\u001b[0;34m.\u001b[0m\u001b[0mshow\u001b[0m\u001b[0;34m(\u001b[0m\u001b[0;34m)\u001b[0m\u001b[0;34m\u001b[0m\u001b[0;34m\u001b[0m\u001b[0m\n",
      "\u001b[0;31mNameError\u001b[0m: name 'plot_acf' is not defined"
     ]
    }
   ],
   "source": [
    "plot_acf(time_series, alpha =.05) #geometric autocorrelation... MA = 0 \n",
    "plt.show()"
   ]
  },
  {
   "cell_type": "code",
   "execution_count": null,
   "metadata": {
    "scrolled": true
   },
   "outputs": [],
   "source": [
    "from statsmodels.graphics.tsaplots import plot_acf\n",
    "fig = plt.figure(figsize = (18,8))\n",
    "ax1 = fig.add_subplot(211)\n",
    "plot_acf(time_series, lags = 60, alpha =.05, ax = ax1)\n",
    "ax2 = fig.add_subplot(212)\n",
    "plot_pacf(time_series,alpha = .05, ax = ax2)\n",
    "plt.show()"
   ]
  },
  {
   "cell_type": "code",
   "execution_count": null,
   "metadata": {},
   "outputs": [],
   "source": [
    "from statsmodels.tsa.stattools import adfuller"
   ]
  },
  {
   "cell_type": "code",
   "execution_count": null,
   "metadata": {
    "scrolled": false
   },
   "outputs": [],
   "source": [
    "dftest = adfuller(time_series['value']) #d = 2 \n",
    "dftest"
   ]
  },
  {
   "cell_type": "markdown",
   "metadata": {},
   "source": [
    "p value > 0.05 therefore we fail to reject null hypothesis and data is seasonal "
   ]
  },
  {
   "cell_type": "markdown",
   "metadata": {},
   "source": [
    "# Step 5: SARIMA Modeling\n",
    "Use SARIMA because we found seasonality, used p, d, q from our EDA above"
   ]
  },
  {
   "cell_type": "code",
   "execution_count": 16,
   "metadata": {},
   "outputs": [],
   "source": [
    "from statsmodels.tsa.statespace.sarimax import SARIMAX\n",
    "import statsmodels.api as sm\n",
    "import numpy as np\n",
    "from sklearn.model_selection import train_test_split"
   ]
  },
  {
   "cell_type": "code",
   "execution_count": 17,
   "metadata": {
    "scrolled": true
   },
   "outputs": [
    {
     "name": "stderr",
     "output_type": "stream",
     "text": [
      "/Users/minnafingerhood/anaconda3/lib/python3.7/site-packages/statsmodels/tsa/base/tsa_model.py:171: ValueWarning: No frequency information was provided, so inferred frequency MS will be used.\n",
      "  % freq, ValueWarning)\n",
      "/Users/minnafingerhood/anaconda3/lib/python3.7/site-packages/statsmodels/base/model.py:508: ConvergenceWarning: Maximum Likelihood optimization failed to converge. Check mle_retvals\n",
      "  \"Check mle_retvals\", ConvergenceWarning)\n"
     ]
    },
    {
     "data": {
      "text/html": [
       "<table class=\"simpletable\">\n",
       "<caption>Statespace Model Results</caption>\n",
       "<tr>\n",
       "  <th>Dep. Variable:</th>               <td>value</td>             <th>  No. Observations:  </th>    <td>265</td>   \n",
       "</tr>\n",
       "<tr>\n",
       "  <th>Model:</th>           <td>SARIMAX(2, 2, 2)x(2, 2, 2, 4)</td> <th>  Log Likelihood     </th> <td>-1848.051</td>\n",
       "</tr>\n",
       "<tr>\n",
       "  <th>Date:</th>                  <td>Mon, 29 Jul 2019</td>        <th>  AIC                </th> <td>3714.102</td> \n",
       "</tr>\n",
       "<tr>\n",
       "  <th>Time:</th>                      <td>09:48:41</td>            <th>  BIC                </th> <td>3745.576</td> \n",
       "</tr>\n",
       "<tr>\n",
       "  <th>Sample:</th>                   <td>04-01-1996</td>           <th>  HQIC               </th> <td>3726.778</td> \n",
       "</tr>\n",
       "<tr>\n",
       "  <th></th>                         <td>- 04-01-2018</td>          <th>                     </th>     <td> </td>    \n",
       "</tr>\n",
       "<tr>\n",
       "  <th>Covariance Type:</th>              <td>opg</td>              <th>                     </th>     <td> </td>    \n",
       "</tr>\n",
       "</table>\n",
       "<table class=\"simpletable\">\n",
       "<tr>\n",
       "     <td></td>        <th>coef</th>     <th>std err</th>      <th>z</th>      <th>P>|z|</th>  <th>[0.025</th>    <th>0.975]</th>  \n",
       "</tr>\n",
       "<tr>\n",
       "  <th>ar.L1</th>   <td>    1.4658</td> <td>    0.159</td> <td>    9.244</td> <td> 0.000</td> <td>    1.155</td> <td>    1.777</td>\n",
       "</tr>\n",
       "<tr>\n",
       "  <th>ar.L2</th>   <td>   -0.5441</td> <td>    0.136</td> <td>   -4.015</td> <td> 0.000</td> <td>   -0.810</td> <td>   -0.279</td>\n",
       "</tr>\n",
       "<tr>\n",
       "  <th>ma.L1</th>   <td>   -1.8206</td> <td>    0.121</td> <td>  -14.992</td> <td> 0.000</td> <td>   -2.059</td> <td>   -1.583</td>\n",
       "</tr>\n",
       "<tr>\n",
       "  <th>ma.L2</th>   <td>    0.8247</td> <td>    0.122</td> <td>    6.779</td> <td> 0.000</td> <td>    0.586</td> <td>    1.063</td>\n",
       "</tr>\n",
       "<tr>\n",
       "  <th>ar.S.L4</th> <td>   -0.8665</td> <td>    0.106</td> <td>   -8.167</td> <td> 0.000</td> <td>   -1.074</td> <td>   -0.659</td>\n",
       "</tr>\n",
       "<tr>\n",
       "  <th>ar.S.L8</th> <td>   -0.3935</td> <td>    0.123</td> <td>   -3.199</td> <td> 0.001</td> <td>   -0.634</td> <td>   -0.152</td>\n",
       "</tr>\n",
       "<tr>\n",
       "  <th>ma.S.L4</th> <td>   -0.0076</td> <td>    0.105</td> <td>   -0.072</td> <td> 0.942</td> <td>   -0.213</td> <td>    0.198</td>\n",
       "</tr>\n",
       "<tr>\n",
       "  <th>ma.S.L8</th> <td>   -0.0710</td> <td>    0.089</td> <td>   -0.795</td> <td> 0.427</td> <td>   -0.246</td> <td>    0.104</td>\n",
       "</tr>\n",
       "<tr>\n",
       "  <th>sigma2</th>  <td> 4.002e+05</td> <td>  4.7e+04</td> <td>    8.513</td> <td> 0.000</td> <td> 3.08e+05</td> <td> 4.92e+05</td>\n",
       "</tr>\n",
       "</table>\n",
       "<table class=\"simpletable\">\n",
       "<tr>\n",
       "  <th>Ljung-Box (Q):</th>          <td>52.46</td> <th>  Jarque-Bera (JB):  </th> <td>2087.14</td>\n",
       "</tr>\n",
       "<tr>\n",
       "  <th>Prob(Q):</th>                <td>0.09</td>  <th>  Prob(JB):          </th>  <td>0.00</td>  \n",
       "</tr>\n",
       "<tr>\n",
       "  <th>Heteroskedasticity (H):</th> <td>0.38</td>  <th>  Skew:              </th>  <td>-1.32</td> \n",
       "</tr>\n",
       "<tr>\n",
       "  <th>Prob(H) (two-sided):</th>    <td>0.00</td>  <th>  Kurtosis:          </th>  <td>17.08</td> \n",
       "</tr>\n",
       "</table><br/><br/>Warnings:<br/>[1] Covariance matrix calculated using the outer product of gradients (complex-step)."
      ],
      "text/plain": [
       "<class 'statsmodels.iolib.summary.Summary'>\n",
       "\"\"\"\n",
       "                                 Statespace Model Results                                \n",
       "=========================================================================================\n",
       "Dep. Variable:                             value   No. Observations:                  265\n",
       "Model:             SARIMAX(2, 2, 2)x(2, 2, 2, 4)   Log Likelihood               -1848.051\n",
       "Date:                           Mon, 29 Jul 2019   AIC                           3714.102\n",
       "Time:                                   09:48:41   BIC                           3745.576\n",
       "Sample:                               04-01-1996   HQIC                          3726.778\n",
       "                                    - 04-01-2018                                         \n",
       "Covariance Type:                             opg                                         \n",
       "==============================================================================\n",
       "                 coef    std err          z      P>|z|      [0.025      0.975]\n",
       "------------------------------------------------------------------------------\n",
       "ar.L1          1.4658      0.159      9.244      0.000       1.155       1.777\n",
       "ar.L2         -0.5441      0.136     -4.015      0.000      -0.810      -0.279\n",
       "ma.L1         -1.8206      0.121    -14.992      0.000      -2.059      -1.583\n",
       "ma.L2          0.8247      0.122      6.779      0.000       0.586       1.063\n",
       "ar.S.L4       -0.8665      0.106     -8.167      0.000      -1.074      -0.659\n",
       "ar.S.L8       -0.3935      0.123     -3.199      0.001      -0.634      -0.152\n",
       "ma.S.L4       -0.0076      0.105     -0.072      0.942      -0.213       0.198\n",
       "ma.S.L8       -0.0710      0.089     -0.795      0.427      -0.246       0.104\n",
       "sigma2      4.002e+05    4.7e+04      8.513      0.000    3.08e+05    4.92e+05\n",
       "===================================================================================\n",
       "Ljung-Box (Q):                       52.46   Jarque-Bera (JB):              2087.14\n",
       "Prob(Q):                              0.09   Prob(JB):                         0.00\n",
       "Heteroskedasticity (H):               0.38   Skew:                            -1.32\n",
       "Prob(H) (two-sided):                  0.00   Kurtosis:                        17.08\n",
       "===================================================================================\n",
       "\n",
       "Warnings:\n",
       "[1] Covariance matrix calculated using the outer product of gradients (complex-step).\n",
       "\"\"\""
      ]
     },
     "execution_count": 17,
     "metadata": {},
     "output_type": "execute_result"
    }
   ],
   "source": [
    "mod1 = sm.tsa.statespace.SARIMAX(time_series, order=(2,2,2), seasonal_order=(2,2,2,4),enforce_stationarity=False, enforce_invertibility=False)\n",
    "results1 = mod1.fit()\n",
    "results1.summary() #AIC = 3714.102 "
   ]
  },
  {
   "cell_type": "code",
   "execution_count": 18,
   "metadata": {},
   "outputs": [
    {
     "name": "stderr",
     "output_type": "stream",
     "text": [
      "/Users/minnafingerhood/anaconda3/lib/python3.7/site-packages/statsmodels/tsa/base/tsa_model.py:171: ValueWarning: No frequency information was provided, so inferred frequency MS will be used.\n",
      "  % freq, ValueWarning)\n"
     ]
    }
   ],
   "source": [
    "mod2 = sm.tsa.statespace.SARIMAX(time_series, order=(1,2,0), seasonal_order=(1,2,3,12),enforce_stationarity=False, enforce_invertibility=False)\n",
    "results2 = mod2.fit()"
   ]
  },
  {
   "cell_type": "code",
   "execution_count": 19,
   "metadata": {
    "scrolled": true
   },
   "outputs": [
    {
     "data": {
      "text/html": [
       "<table class=\"simpletable\">\n",
       "<caption>Statespace Model Results</caption>\n",
       "<tr>\n",
       "  <th>Dep. Variable:</th>                <td>value</td>             <th>  No. Observations:  </th>    <td>265</td>   \n",
       "</tr>\n",
       "<tr>\n",
       "  <th>Model:</th>           <td>SARIMAX(1, 2, 0)x(1, 2, 3, 12)</td> <th>  Log Likelihood     </th> <td>-1526.489</td>\n",
       "</tr>\n",
       "<tr>\n",
       "  <th>Date:</th>                   <td>Mon, 29 Jul 2019</td>        <th>  AIC                </th> <td>3064.977</td> \n",
       "</tr>\n",
       "<tr>\n",
       "  <th>Time:</th>                       <td>09:48:47</td>            <th>  BIC                </th> <td>3084.827</td> \n",
       "</tr>\n",
       "<tr>\n",
       "  <th>Sample:</th>                    <td>04-01-1996</td>           <th>  HQIC               </th> <td>3073.009</td> \n",
       "</tr>\n",
       "<tr>\n",
       "  <th></th>                          <td>- 04-01-2018</td>          <th>                     </th>     <td> </td>    \n",
       "</tr>\n",
       "<tr>\n",
       "  <th>Covariance Type:</th>               <td>opg</td>              <th>                     </th>     <td> </td>    \n",
       "</tr>\n",
       "</table>\n",
       "<table class=\"simpletable\">\n",
       "<tr>\n",
       "      <td></td>        <th>coef</th>     <th>std err</th>      <th>z</th>      <th>P>|z|</th>  <th>[0.025</th>    <th>0.975]</th>  \n",
       "</tr>\n",
       "<tr>\n",
       "  <th>ar.L1</th>    <td>   -0.2733</td> <td>    0.043</td> <td>   -6.327</td> <td> 0.000</td> <td>   -0.358</td> <td>   -0.189</td>\n",
       "</tr>\n",
       "<tr>\n",
       "  <th>ar.S.L12</th> <td>   -0.6159</td> <td>    0.040</td> <td>  -15.367</td> <td> 0.000</td> <td>   -0.694</td> <td>   -0.537</td>\n",
       "</tr>\n",
       "<tr>\n",
       "  <th>ma.S.L12</th> <td>   -0.4072</td> <td>    0.038</td> <td>  -10.626</td> <td> 0.000</td> <td>   -0.482</td> <td>   -0.332</td>\n",
       "</tr>\n",
       "<tr>\n",
       "  <th>ma.S.L24</th> <td>   -0.2557</td> <td>    0.042</td> <td>   -6.084</td> <td> 0.000</td> <td>   -0.338</td> <td>   -0.173</td>\n",
       "</tr>\n",
       "<tr>\n",
       "  <th>ma.S.L36</th> <td>    0.2093</td> <td>    0.041</td> <td>    5.079</td> <td> 0.000</td> <td>    0.129</td> <td>    0.290</td>\n",
       "</tr>\n",
       "<tr>\n",
       "  <th>sigma2</th>   <td> 2.012e+05</td> <td> 9194.454</td> <td>   21.878</td> <td> 0.000</td> <td> 1.83e+05</td> <td> 2.19e+05</td>\n",
       "</tr>\n",
       "</table>\n",
       "<table class=\"simpletable\">\n",
       "<tr>\n",
       "  <th>Ljung-Box (Q):</th>          <td>50.52</td> <th>  Jarque-Bera (JB):  </th> <td>1193.47</td>\n",
       "</tr>\n",
       "<tr>\n",
       "  <th>Prob(Q):</th>                <td>0.12</td>  <th>  Prob(JB):          </th>  <td>0.00</td>  \n",
       "</tr>\n",
       "<tr>\n",
       "  <th>Heteroskedasticity (H):</th> <td>0.23</td>  <th>  Skew:              </th>  <td>0.44</td>  \n",
       "</tr>\n",
       "<tr>\n",
       "  <th>Prob(H) (two-sided):</th>    <td>0.00</td>  <th>  Kurtosis:          </th>  <td>14.88</td> \n",
       "</tr>\n",
       "</table><br/><br/>Warnings:<br/>[1] Covariance matrix calculated using the outer product of gradients (complex-step)."
      ],
      "text/plain": [
       "<class 'statsmodels.iolib.summary.Summary'>\n",
       "\"\"\"\n",
       "                                 Statespace Model Results                                 \n",
       "==========================================================================================\n",
       "Dep. Variable:                              value   No. Observations:                  265\n",
       "Model:             SARIMAX(1, 2, 0)x(1, 2, 3, 12)   Log Likelihood               -1526.489\n",
       "Date:                            Mon, 29 Jul 2019   AIC                           3064.977\n",
       "Time:                                    09:48:47   BIC                           3084.827\n",
       "Sample:                                04-01-1996   HQIC                          3073.009\n",
       "                                     - 04-01-2018                                         \n",
       "Covariance Type:                              opg                                         \n",
       "==============================================================================\n",
       "                 coef    std err          z      P>|z|      [0.025      0.975]\n",
       "------------------------------------------------------------------------------\n",
       "ar.L1         -0.2733      0.043     -6.327      0.000      -0.358      -0.189\n",
       "ar.S.L12      -0.6159      0.040    -15.367      0.000      -0.694      -0.537\n",
       "ma.S.L12      -0.4072      0.038    -10.626      0.000      -0.482      -0.332\n",
       "ma.S.L24      -0.2557      0.042     -6.084      0.000      -0.338      -0.173\n",
       "ma.S.L36       0.2093      0.041      5.079      0.000       0.129       0.290\n",
       "sigma2      2.012e+05   9194.454     21.878      0.000    1.83e+05    2.19e+05\n",
       "===================================================================================\n",
       "Ljung-Box (Q):                       50.52   Jarque-Bera (JB):              1193.47\n",
       "Prob(Q):                              0.12   Prob(JB):                         0.00\n",
       "Heteroskedasticity (H):               0.23   Skew:                             0.44\n",
       "Prob(H) (two-sided):                  0.00   Kurtosis:                        14.88\n",
       "===================================================================================\n",
       "\n",
       "Warnings:\n",
       "[1] Covariance matrix calculated using the outer product of gradients (complex-step).\n",
       "\"\"\""
      ]
     },
     "execution_count": 19,
     "metadata": {},
     "output_type": "execute_result"
    }
   ],
   "source": [
    "results2.summary() #AIC value of 3064.977.. better than model1 "
   ]
  },
  {
   "cell_type": "code",
   "execution_count": 20,
   "metadata": {
    "scrolled": true
   },
   "outputs": [
    {
     "name": "stderr",
     "output_type": "stream",
     "text": [
      "/Users/minnafingerhood/anaconda3/lib/python3.7/site-packages/matplotlib/font_manager.py:1241: UserWarning: findfont: Font family ['normal'] not found. Falling back to DejaVu Sans.\n",
      "  (prop.get_family(), self.defaultFamily[fontext]))\n"
     ]
    },
    {
     "data": {
      "image/png": "[encoded data removed]",
      "text/plain": [
       "<Figure size 1152x576 with 4 Axes>"
      ]
     },
     "metadata": {
      "needs_background": "light"
     },
     "output_type": "display_data"
    }
   ],
   "source": [
    "results2.plot_diagnostics(figsize = (16,8))\n",
    "plt.show()"
   ]
  },
  {
   "cell_type": "code",
   "execution_count": 21,
   "metadata": {},
   "outputs": [
    {
     "data": {
      "image/png": "[encoded data removed]",
      "text/plain": [
       "<Figure size 1008x504 with 1 Axes>"
      ]
     },
     "metadata": {
      "needs_background": "light"
     },
     "output_type": "display_data"
    }
   ],
   "source": [
    "pred = results2.get_prediction(start=pd.to_datetime('2017-04-01'), dynamic=False)\n",
    "pred_ci = pred.conf_int()\n",
    "#observed values\n",
    "ax = time_series['2017':].plot(label='observed')\n",
    "#pred values\n",
    "pred.predicted_mean.plot(ax=ax, label='One-step ahead Forecast', alpha=.7, figsize=(14, 7))\n",
    "#range of CI\n",
    "ax.fill_between(pred_ci.index,pred_ci.iloc[:, 0],pred_ci.iloc[:, 1], color='yellow', alpha=.5)\n",
    "ax.set_xlabel('Date')\n",
    "ax.set_ylabel('Value')\n",
    "plt.legend()\n",
    "plt.show()"
   ]
  },
  {
   "cell_type": "code",
   "execution_count": 23,
   "metadata": {
    "scrolled": true
   },
   "outputs": [],
   "source": [
    "stacked = df.set_index(['time', 'RegionID'])\n",
    "stacked.drop(['RegionName', 'City', 'State', 'Metro', 'CountyName', 'SizeRank'], axis = 1, inplace = True)\n",
    "stacked.dropna(subset=['value'], inplace = True)\n",
    "delta_value = stacked.unstack()\n",
    "cols = [str(x[1]) for x in delta_value.columns]\n",
    "delta_value.columns = cols"
   ]
  },
  {
   "cell_type": "code",
   "execution_count": 24,
   "metadata": {},
   "outputs": [
    {
     "data": {
      "text/html": [
       "<div>\n",
       "<style scoped>\n",
       "    .dataframe tbody tr th:only-of-type {\n",
       "        vertical-align: middle;\n",
       "    }\n",
       "\n",
       "    .dataframe tbody tr th {\n",
       "        vertical-align: top;\n",
       "    }\n",
       "\n",
       "    .dataframe thead th {\n",
       "        text-align: right;\n",
       "    }\n",
       "</style>\n",
       "<table border=\"1\" class=\"dataframe\">\n",
       "  <thead>\n",
       "    <tr style=\"text-align: right;\">\n",
       "      <th></th>\n",
       "      <th>58196</th>\n",
       "      <th>58197</th>\n",
       "      <th>58200</th>\n",
       "      <th>58201</th>\n",
       "      <th>58202</th>\n",
       "      <th>58204</th>\n",
       "      <th>58205</th>\n",
       "      <th>58207</th>\n",
       "      <th>58209</th>\n",
       "      <th>58212</th>\n",
       "      <th>...</th>\n",
       "      <th>417461</th>\n",
       "      <th>418162</th>\n",
       "      <th>422745</th>\n",
       "      <th>422746</th>\n",
       "      <th>422747</th>\n",
       "      <th>677175</th>\n",
       "      <th>698721</th>\n",
       "      <th>738092</th>\n",
       "      <th>753843</th>\n",
       "      <th>753844</th>\n",
       "    </tr>\n",
       "    <tr>\n",
       "      <th>time</th>\n",
       "      <th></th>\n",
       "      <th></th>\n",
       "      <th></th>\n",
       "      <th></th>\n",
       "      <th></th>\n",
       "      <th></th>\n",
       "      <th></th>\n",
       "      <th></th>\n",
       "      <th></th>\n",
       "      <th></th>\n",
       "      <th></th>\n",
       "      <th></th>\n",
       "      <th></th>\n",
       "      <th></th>\n",
       "      <th></th>\n",
       "      <th></th>\n",
       "      <th></th>\n",
       "      <th></th>\n",
       "      <th></th>\n",
       "      <th></th>\n",
       "      <th></th>\n",
       "    </tr>\n",
       "  </thead>\n",
       "  <tbody>\n",
       "    <tr>\n",
       "      <th>1996-04-01</th>\n",
       "      <td>113100.0</td>\n",
       "      <td>161000.0</td>\n",
       "      <td>103100.0</td>\n",
       "      <td>133400.0</td>\n",
       "      <td>117500.0</td>\n",
       "      <td>115800.0</td>\n",
       "      <td>87000.0</td>\n",
       "      <td>88500.0</td>\n",
       "      <td>97200.0</td>\n",
       "      <td>91200.0</td>\n",
       "      <td>...</td>\n",
       "      <td>43800.0</td>\n",
       "      <td>153100.0</td>\n",
       "      <td>133400.0</td>\n",
       "      <td>251500.0</td>\n",
       "      <td>116300.0</td>\n",
       "      <td>169300.0</td>\n",
       "      <td>126100.0</td>\n",
       "      <td>133200.0</td>\n",
       "      <td>185900.0</td>\n",
       "      <td>71100.0</td>\n",
       "    </tr>\n",
       "    <tr>\n",
       "      <th>1996-05-01</th>\n",
       "      <td>112800.0</td>\n",
       "      <td>160100.0</td>\n",
       "      <td>103400.0</td>\n",
       "      <td>132700.0</td>\n",
       "      <td>117300.0</td>\n",
       "      <td>115700.0</td>\n",
       "      <td>87000.0</td>\n",
       "      <td>88500.0</td>\n",
       "      <td>97100.0</td>\n",
       "      <td>91100.0</td>\n",
       "      <td>...</td>\n",
       "      <td>44300.0</td>\n",
       "      <td>152500.0</td>\n",
       "      <td>133400.0</td>\n",
       "      <td>252400.0</td>\n",
       "      <td>117100.0</td>\n",
       "      <td>170500.0</td>\n",
       "      <td>127500.0</td>\n",
       "      <td>133900.0</td>\n",
       "      <td>185800.0</td>\n",
       "      <td>71000.0</td>\n",
       "    </tr>\n",
       "    <tr>\n",
       "      <th>1996-06-01</th>\n",
       "      <td>112600.0</td>\n",
       "      <td>159300.0</td>\n",
       "      <td>103600.0</td>\n",
       "      <td>132000.0</td>\n",
       "      <td>117100.0</td>\n",
       "      <td>115500.0</td>\n",
       "      <td>87100.0</td>\n",
       "      <td>88400.0</td>\n",
       "      <td>97000.0</td>\n",
       "      <td>91000.0</td>\n",
       "      <td>...</td>\n",
       "      <td>44900.0</td>\n",
       "      <td>151900.0</td>\n",
       "      <td>133600.0</td>\n",
       "      <td>253300.0</td>\n",
       "      <td>117800.0</td>\n",
       "      <td>171700.0</td>\n",
       "      <td>128900.0</td>\n",
       "      <td>134500.0</td>\n",
       "      <td>185600.0</td>\n",
       "      <td>70900.0</td>\n",
       "    </tr>\n",
       "    <tr>\n",
       "      <th>1996-07-01</th>\n",
       "      <td>112300.0</td>\n",
       "      <td>158600.0</td>\n",
       "      <td>103800.0</td>\n",
       "      <td>131400.0</td>\n",
       "      <td>117000.0</td>\n",
       "      <td>115300.0</td>\n",
       "      <td>87200.0</td>\n",
       "      <td>88300.0</td>\n",
       "      <td>96800.0</td>\n",
       "      <td>90800.0</td>\n",
       "      <td>...</td>\n",
       "      <td>45400.0</td>\n",
       "      <td>151300.0</td>\n",
       "      <td>133700.0</td>\n",
       "      <td>254400.0</td>\n",
       "      <td>118500.0</td>\n",
       "      <td>172900.0</td>\n",
       "      <td>130200.0</td>\n",
       "      <td>135300.0</td>\n",
       "      <td>185400.0</td>\n",
       "      <td>70800.0</td>\n",
       "    </tr>\n",
       "    <tr>\n",
       "      <th>1996-08-01</th>\n",
       "      <td>112100.0</td>\n",
       "      <td>158000.0</td>\n",
       "      <td>103900.0</td>\n",
       "      <td>130800.0</td>\n",
       "      <td>116800.0</td>\n",
       "      <td>115100.0</td>\n",
       "      <td>87400.0</td>\n",
       "      <td>88200.0</td>\n",
       "      <td>96600.0</td>\n",
       "      <td>90700.0</td>\n",
       "      <td>...</td>\n",
       "      <td>45800.0</td>\n",
       "      <td>150700.0</td>\n",
       "      <td>133900.0</td>\n",
       "      <td>255600.0</td>\n",
       "      <td>119200.0</td>\n",
       "      <td>174100.0</td>\n",
       "      <td>131300.0</td>\n",
       "      <td>136200.0</td>\n",
       "      <td>185400.0</td>\n",
       "      <td>70800.0</td>\n",
       "    </tr>\n",
       "  </tbody>\n",
       "</table>\n",
       "<p>5 rows × 14723 columns</p>\n",
       "</div>"
      ],
      "text/plain": [
       "               58196     58197     58200     58201     58202     58204  \\\n",
       "time                                                                     \n",
       "1996-04-01  113100.0  161000.0  103100.0  133400.0  117500.0  115800.0   \n",
       "1996-05-01  112800.0  160100.0  103400.0  132700.0  117300.0  115700.0   \n",
       "1996-06-01  112600.0  159300.0  103600.0  132000.0  117100.0  115500.0   \n",
       "1996-07-01  112300.0  158600.0  103800.0  131400.0  117000.0  115300.0   \n",
       "1996-08-01  112100.0  158000.0  103900.0  130800.0  116800.0  115100.0   \n",
       "\n",
       "              58205    58207    58209    58212  ...   417461    418162  \\\n",
       "time                                            ...                      \n",
       "1996-04-01  87000.0  88500.0  97200.0  91200.0  ...  43800.0  153100.0   \n",
       "1996-05-01  87000.0  88500.0  97100.0  91100.0  ...  44300.0  152500.0   \n",
       "1996-06-01  87100.0  88400.0  97000.0  91000.0  ...  44900.0  151900.0   \n",
       "1996-07-01  87200.0  88300.0  96800.0  90800.0  ...  45400.0  151300.0   \n",
       "1996-08-01  87400.0  88200.0  96600.0  90700.0  ...  45800.0  150700.0   \n",
       "\n",
       "              422745    422746    422747    677175    698721    738092  \\\n",
       "time                                                                     \n",
       "1996-04-01  133400.0  251500.0  116300.0  169300.0  126100.0  133200.0   \n",
       "1996-05-01  133400.0  252400.0  117100.0  170500.0  127500.0  133900.0   \n",
       "1996-06-01  133600.0  253300.0  117800.0  171700.0  128900.0  134500.0   \n",
       "1996-07-01  133700.0  254400.0  118500.0  172900.0  130200.0  135300.0   \n",
       "1996-08-01  133900.0  255600.0  119200.0  174100.0  131300.0  136200.0   \n",
       "\n",
       "              753843   753844  \n",
       "time                           \n",
       "1996-04-01  185900.0  71100.0  \n",
       "1996-05-01  185800.0  71000.0  \n",
       "1996-06-01  185600.0  70900.0  \n",
       "1996-07-01  185400.0  70800.0  \n",
       "1996-08-01  185400.0  70800.0  \n",
       "\n",
       "[5 rows x 14723 columns]"
      ]
     },
     "execution_count": 24,
     "metadata": {},
     "output_type": "execute_result"
    }
   ],
   "source": [
    "delta_value.head()"
   ]
  },
  {
   "cell_type": "code",
   "execution_count": 33,
   "metadata": {},
   "outputs": [
    {
     "data": {
      "text/plain": [
       "62022    2.534154\n",
       "62033    2.481206\n",
       "62027    2.423896\n",
       "60639    2.371251\n",
       "62026    2.324117\n",
       "dtype: float64"
      ]
     },
     "execution_count": 33,
     "metadata": {},
     "output_type": "execute_result"
    }
   ],
   "source": [
    "delta_value.pct_change(periods =1).sum().sort_values(ascending = False).head(5) #[62022, 62033, 62027, 60639, 62026]"
   ]
  },
  {
   "cell_type": "code",
   "execution_count": 111,
   "metadata": {
    "scrolled": true
   },
   "outputs": [],
   "source": [
    "zip_series = pd.DataFrame(delta_value[['62022', '62033', '62027', '60639', '62026']])"
   ]
  },
  {
   "cell_type": "code",
   "execution_count": 64,
   "metadata": {
    "scrolled": true
   },
   "outputs": [
    {
     "name": "stderr",
     "output_type": "stream",
     "text": [
      "/Users/minnafingerhood/anaconda3/lib/python3.7/site-packages/statsmodels/tsa/base/tsa_model.py:171: ValueWarning: No frequency information was provided, so inferred frequency MS will be used.\n",
      "  % freq, ValueWarning)\n",
      "/Users/minnafingerhood/anaconda3/lib/python3.7/site-packages/statsmodels/tsa/statespace/kalman_filter.py:1740: ValueWarning: Dynamic prediction specified to begin during out-of-sample forecasting period, and so has no effect.\n",
      "  ' effect.', ValueWarning)\n",
      "/Users/minnafingerhood/anaconda3/lib/python3.7/site-packages/statsmodels/tsa/statespace/kalman_filter.py:1740: ValueWarning: Dynamic prediction specified to begin during out-of-sample forecasting period, and so has no effect.\n",
      "  ' effect.', ValueWarning)\n",
      "/Users/minnafingerhood/anaconda3/lib/python3.7/site-packages/statsmodels/tsa/statespace/kalman_filter.py:1740: ValueWarning: Dynamic prediction specified to begin during out-of-sample forecasting period, and so has no effect.\n",
      "  ' effect.', ValueWarning)\n",
      "/Users/minnafingerhood/anaconda3/lib/python3.7/site-packages/statsmodels/tsa/base/tsa_model.py:171: ValueWarning: No frequency information was provided, so inferred frequency MS will be used.\n",
      "  % freq, ValueWarning)\n",
      "/Users/minnafingerhood/anaconda3/lib/python3.7/site-packages/statsmodels/tsa/statespace/kalman_filter.py:1740: ValueWarning: Dynamic prediction specified to begin during out-of-sample forecasting period, and so has no effect.\n",
      "  ' effect.', ValueWarning)\n",
      "/Users/minnafingerhood/anaconda3/lib/python3.7/site-packages/statsmodels/tsa/statespace/kalman_filter.py:1740: ValueWarning: Dynamic prediction specified to begin during out-of-sample forecasting period, and so has no effect.\n",
      "  ' effect.', ValueWarning)\n",
      "/Users/minnafingerhood/anaconda3/lib/python3.7/site-packages/statsmodels/tsa/statespace/kalman_filter.py:1740: ValueWarning: Dynamic prediction specified to begin during out-of-sample forecasting period, and so has no effect.\n",
      "  ' effect.', ValueWarning)\n",
      "/Users/minnafingerhood/anaconda3/lib/python3.7/site-packages/statsmodels/tsa/base/tsa_model.py:171: ValueWarning: No frequency information was provided, so inferred frequency MS will be used.\n",
      "  % freq, ValueWarning)\n",
      "/Users/minnafingerhood/anaconda3/lib/python3.7/site-packages/statsmodels/tsa/statespace/kalman_filter.py:1740: ValueWarning: Dynamic prediction specified to begin during out-of-sample forecasting period, and so has no effect.\n",
      "  ' effect.', ValueWarning)\n",
      "/Users/minnafingerhood/anaconda3/lib/python3.7/site-packages/statsmodels/tsa/statespace/kalman_filter.py:1740: ValueWarning: Dynamic prediction specified to begin during out-of-sample forecasting period, and so has no effect.\n",
      "  ' effect.', ValueWarning)\n",
      "/Users/minnafingerhood/anaconda3/lib/python3.7/site-packages/statsmodels/tsa/statespace/kalman_filter.py:1740: ValueWarning: Dynamic prediction specified to begin during out-of-sample forecasting period, and so has no effect.\n",
      "  ' effect.', ValueWarning)\n",
      "/Users/minnafingerhood/anaconda3/lib/python3.7/site-packages/statsmodels/tsa/base/tsa_model.py:171: ValueWarning: No frequency information was provided, so inferred frequency MS will be used.\n",
      "  % freq, ValueWarning)\n",
      "/Users/minnafingerhood/anaconda3/lib/python3.7/site-packages/statsmodels/tsa/statespace/kalman_filter.py:1740: ValueWarning: Dynamic prediction specified to begin during out-of-sample forecasting period, and so has no effect.\n",
      "  ' effect.', ValueWarning)\n",
      "/Users/minnafingerhood/anaconda3/lib/python3.7/site-packages/statsmodels/tsa/statespace/kalman_filter.py:1740: ValueWarning: Dynamic prediction specified to begin during out-of-sample forecasting period, and so has no effect.\n",
      "  ' effect.', ValueWarning)\n",
      "/Users/minnafingerhood/anaconda3/lib/python3.7/site-packages/statsmodels/tsa/statespace/kalman_filter.py:1740: ValueWarning: Dynamic prediction specified to begin during out-of-sample forecasting period, and so has no effect.\n",
      "  ' effect.', ValueWarning)\n",
      "/Users/minnafingerhood/anaconda3/lib/python3.7/site-packages/statsmodels/tsa/base/tsa_model.py:171: ValueWarning: No frequency information was provided, so inferred frequency MS will be used.\n",
      "  % freq, ValueWarning)\n",
      "/Users/minnafingerhood/anaconda3/lib/python3.7/site-packages/statsmodels/tsa/statespace/kalman_filter.py:1740: ValueWarning: Dynamic prediction specified to begin during out-of-sample forecasting period, and so has no effect.\n",
      "  ' effect.', ValueWarning)\n",
      "/Users/minnafingerhood/anaconda3/lib/python3.7/site-packages/statsmodels/tsa/statespace/kalman_filter.py:1740: ValueWarning: Dynamic prediction specified to begin during out-of-sample forecasting period, and so has no effect.\n",
      "  ' effect.', ValueWarning)\n",
      "/Users/minnafingerhood/anaconda3/lib/python3.7/site-packages/statsmodels/tsa/statespace/kalman_filter.py:1740: ValueWarning: Dynamic prediction specified to begin during out-of-sample forecasting period, and so has no effect.\n",
      "  ' effect.', ValueWarning)\n"
     ]
    }
   ],
   "source": [
    "#new_dataframe = pd.DataFrame(columns=['RegionID', '5yrs', '10yrs', '15yrs'])\n",
    "new_dict = {}\n",
    "for column in zip_series.columns:\n",
    "    \n",
    "    mod = sm.tsa.statespace.SARIMAX(delta_value[column], order=(1,2,0), seasonal_order=(1,2,3,12),enforce_stationarity=False, enforce_invertibility=False)\n",
    "    results = mod.fit()\n",
    "    \n",
    "    pred_5yrs = results.get_prediction(start=pd.to_datetime('2022-04-01'), dynamic=True)\n",
    "    pred_10yrs = results.get_prediction(start=pd.to_datetime('2027-04-01'), dynamic=True)\n",
    "    pred_15yrs = results.get_prediction(start=pd.to_datetime('2033-04-01'), dynamic=True)\n",
    "    #pred_ci = pred_5yrs.conf_int()\n",
    "    new_dict[f'{column}'] = [pred_5yrs.predicted_mean, pred_10yrs.predicted_mean, pred_15yrs.predicted_mean]"
   ]
  },
  {
   "cell_type": "code",
   "execution_count": 82,
   "metadata": {},
   "outputs": [],
   "source": [
    "cleaned = {}\n",
    "for k,v in new_dict.items():\n",
    "    temp = []\n",
    "    cleaned[f'{k}'] = temp\n",
    "    for i in range(0,len(v)):\n",
    "        temp.append(new_dict[f'{k}'][i][0])"
   ]
  },
  {
   "cell_type": "code",
   "execution_count": 109,
   "metadata": {
    "scrolled": true
   },
   "outputs": [
    {
     "data": {
      "text/html": [
       "<div>\n",
       "<style scoped>\n",
       "    .dataframe tbody tr th:only-of-type {\n",
       "        vertical-align: middle;\n",
       "    }\n",
       "\n",
       "    .dataframe tbody tr th {\n",
       "        vertical-align: top;\n",
       "    }\n",
       "\n",
       "    .dataframe thead th {\n",
       "        text-align: right;\n",
       "    }\n",
       "</style>\n",
       "<table border=\"1\" class=\"dataframe\">\n",
       "  <thead>\n",
       "    <tr style=\"text-align: right;\">\n",
       "      <th></th>\n",
       "      <th>5yrs</th>\n",
       "      <th>10yrs</th>\n",
       "      <th>15yrs</th>\n",
       "    </tr>\n",
       "  </thead>\n",
       "  <tbody>\n",
       "    <tr>\n",
       "      <th>62022</th>\n",
       "      <td>3.367976e+06</td>\n",
       "      <td>8.077699e+06</td>\n",
       "      <td>1.926232e+07</td>\n",
       "    </tr>\n",
       "    <tr>\n",
       "      <th>62033</th>\n",
       "      <td>2.125009e+06</td>\n",
       "      <td>2.108438e+07</td>\n",
       "      <td>3.211644e+08</td>\n",
       "    </tr>\n",
       "    <tr>\n",
       "      <th>62027</th>\n",
       "      <td>9.255576e+05</td>\n",
       "      <td>-4.007296e+06</td>\n",
       "      <td>-1.965772e+07</td>\n",
       "    </tr>\n",
       "    <tr>\n",
       "      <th>60639</th>\n",
       "      <td>2.813358e+05</td>\n",
       "      <td>-6.712799e+06</td>\n",
       "      <td>-2.846107e+07</td>\n",
       "    </tr>\n",
       "    <tr>\n",
       "      <th>62026</th>\n",
       "      <td>3.573281e+06</td>\n",
       "      <td>7.711000e+06</td>\n",
       "      <td>1.869529e+07</td>\n",
       "    </tr>\n",
       "  </tbody>\n",
       "</table>\n",
       "</div>"
      ],
      "text/plain": [
       "               5yrs         10yrs         15yrs\n",
       "62022  3.367976e+06  8.077699e+06  1.926232e+07\n",
       "62033  2.125009e+06  2.108438e+07  3.211644e+08\n",
       "62027  9.255576e+05 -4.007296e+06 -1.965772e+07\n",
       "60639  2.813358e+05 -6.712799e+06 -2.846107e+07\n",
       "62026  3.573281e+06  7.711000e+06  1.869529e+07"
      ]
     },
     "execution_count": 109,
     "metadata": {},
     "output_type": "execute_result"
    }
   ],
   "source": [
    "test = pd.DataFrame.from_dict(cleaned).T\n",
    "final = test.rename(columns={0: '5yrs', 1: '10yrs', 2: '15yrs'})\n",
    "final"
   ]
  }
 ],
 "metadata": {
  "kernelspec": {
   "display_name": "Python 3",
   "language": "python",
   "name": "python3"
  },
  "language_info": {
   "codemirror_mode": {
    "name": "ipython",
    "version": 3
   },
   "file_extension": ".py",
   "mimetype": "text/x-python",
   "name": "python",
   "nbconvert_exporter": "python",
   "pygments_lexer": "ipython3",
   "version": "3.7.3"
  }
 },
 "nbformat": 4,
 "nbformat_minor": 2
}
