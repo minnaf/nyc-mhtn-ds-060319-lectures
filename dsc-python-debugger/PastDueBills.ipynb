{
 "cells": [
  {
   "cell_type": "markdown",
   "metadata": {
    "slideshow": {
     "slide_type": "slide"
    }
   },
   "source": []
  },
  {
   "cell_type": "markdown",
   "metadata": {
    "slideshow": {
     "slide_type": "slide"
    }
   },
   "source": [
    "# Debugging for Python"
   ]
  },
  {
   "cell_type": "markdown",
   "metadata": {
    "slideshow": {
     "slide_type": "subslide"
    }
   },
   "source": [
    "### Grace Hopper and The Actual Bug\n",
    "\n",
    "![Actual Bug](BugExample.jpg)"
   ]
  },
  {
   "cell_type": "markdown",
   "metadata": {
    "slideshow": {
     "slide_type": "slide"
    }
   },
   "source": [
    "<table border=\"0\">\n",
    " <tr>\n",
    "    <td><b style=\"font-size:48px; text-align: left\">History of Bugs</b></td>\n",
    "    <td><b style=\"font-size:30px\"></b></td>\n",
    " </tr>\n",
    " <tr>\n",
    "    <td style='width: 60%'><p style=\"font-size:34px\">It has been just so in all of my inventions. The first step is an intuition, and comes with a burst, then difficulties arise—this thing gives out and [it is] then that \"Bugs\"—as such little faults and difficulties are called—show themselves and months of intense watching, study and labor are requisite before commercial success or failure is certainly reached. </p>\n",
    "        <p><b style='font-size:30px'>Thomas Edison, 1878 letter to an associate</b></p></td>\n",
    "    <td><img src=\"https://media.giphy.com/media/UAUtB4Oi9U4EM/giphy.gif\" width=\"640\" height=\"480\" frameBorder=\"0\" />\n",
    "        <p></p>.</td>\n",
    " </tr>\n",
    "</table>"
   ]
  },
  {
   "cell_type": "markdown",
   "metadata": {
    "slideshow": {
     "slide_type": "slide"
    }
   },
   "source": [
    "## Debugging Algorithm"
   ]
  },
  {
   "cell_type": "markdown",
   "metadata": {
    "slideshow": {
     "slide_type": "fragment"
    }
   },
   "source": [
    "* Gather information"
   ]
  },
  {
   "cell_type": "markdown",
   "metadata": {
    "slideshow": {
     "slide_type": "fragment"
    }
   },
   "source": [
    "* Form a hypothesis"
   ]
  },
  {
   "cell_type": "markdown",
   "metadata": {
    "slideshow": {
     "slide_type": "fragment"
    }
   },
   "source": [
    "* Test the hypothesis"
   ]
  },
  {
   "cell_type": "markdown",
   "metadata": {
    "slideshow": {
     "slide_type": "fragment"
    }
   },
   "source": [
    "* Repeat until a hypothesis is proven"
   ]
  },
  {
   "cell_type": "markdown",
   "metadata": {
    "slideshow": {
     "slide_type": "fragment"
    }
   },
   "source": [
    "* Propose a solution"
   ]
  },
  {
   "cell_type": "markdown",
   "metadata": {
    "slideshow": {
     "slide_type": "slide"
    }
   },
   "source": [
    "## PDB (Python Debugger)"
   ]
  },
  {
   "cell_type": "markdown",
   "metadata": {
    "slideshow": {
     "slide_type": "fragment"
    }
   },
   "source": [
    "### Breakpoints\n",
    "Automatically imports pdb and creates a checkpoint within your code"
   ]
  },
  {
   "cell_type": "markdown",
   "metadata": {
    "slideshow": {
     "slide_type": "subslide"
    }
   },
   "source": [
    "### Keywords\n",
    "#### n(ext)\n",
    " * Run to the next line of code"
   ]
  },
  {
   "cell_type": "markdown",
   "metadata": {
    "slideshow": {
     "slide_type": "fragment"
    }
   },
   "source": [
    "breakpoint()\n",
    "\n",
    "df = pandas.read_csv('example.csv')\n",
    "\n",
    "df.describe()"
   ]
  },
  {
   "cell_type": "markdown",
   "metadata": {
    "slideshow": {
     "slide_type": "subslide"
    }
   },
   "source": [
    "#### s(tep)\n",
    " * Step into the next moment"
   ]
  },
  {
   "cell_type": "markdown",
   "metadata": {
    "slideshow": {
     "slide_type": "subslide"
    }
   },
   "source": [
    "breakpoint()\n",
    "\n",
    "df = pandas.read_csv('example.csv')\n",
    "\n",
    "df.describe()"
   ]
  },
  {
   "cell_type": "markdown",
   "metadata": {
    "slideshow": {
     "slide_type": "subslide"
    }
   },
   "source": [
    "#### c(ontinue)\n",
    "* Run until the next breakpoint is hit"
   ]
  },
  {
   "cell_type": "markdown",
   "metadata": {},
   "source": [
    "breakpoint()\n",
    "\n",
    "df = pandas.read_csv('example.csv')\n",
    "\n",
    "df.describe()"
   ]
  },
  {
   "cell_type": "markdown",
   "metadata": {
    "slideshow": {
     "slide_type": "subslide"
    }
   },
   "source": [
    "#### l(ist)\n",
    "* Print out the context of the code line you are in\n",
    "\n",
    "#### pp (pretty print)\n",
    "* Print out a variable in a readable format\n",
    "\n",
    "#### w(here)\n",
    "* Print out the stack trace"
   ]
  },
  {
   "cell_type": "markdown",
   "metadata": {
    "slideshow": {
     "slide_type": "slide"
    }
   },
   "source": [
    "# For Loop Example"
   ]
  },
  {
   "cell_type": "code",
   "execution_count": 1,
   "metadata": {
    "scrolled": true,
    "slideshow": {
     "slide_type": "subslide"
    }
   },
   "outputs": [
    {
     "name": "stdout",
     "output_type": "stream",
     "text": [
      "--Return--\n",
      "> <ipython-input-1-9e5204081c66>(4)<module>()->None\n",
      "-> breakpoint()\n",
      "(Pdb) index\n",
      "*** NameError: name 'index' is not defined\n",
      "(Pdb) list\n",
      "  1  \tfrom IPython.display import clear_output as bye\n",
      "  2  \timport Ledger\n",
      "  3  \tbill = 100.0\n",
      "  4  ->\tbreakpoint()\n",
      "  5  \tfor year in range(1,10):\n",
      "  6  \t    breakpoint()\n",
      "  7  \t    bill = Ledger.add_interest(bill)\n",
      "[EOF]\n",
      "(Pdb) list\n",
      "[EOF]\n",
      "(Pdb) year\n",
      "*** NameError: name 'year' is not defined\n",
      "(Pdb) 1\n",
      "1\n",
      "(Pdb) bill\n",
      "100.0\n",
      "(Pdb) continue\n",
      "> <ipython-input-1-9e5204081c66>(7)<module>()->None\n",
      "-> bill = Ledger.add_interest(bill)\n",
      "(Pdb) year\n",
      "1\n",
      "(Pdb) continue\n",
      "> <ipython-input-1-9e5204081c66>(6)<module>()->None\n",
      "-> breakpoint()\n",
      "(Pdb) year\n",
      "2\n",
      "(Pdb) continue\n",
      "> <ipython-input-1-9e5204081c66>(7)<module>()->None\n",
      "-> bill = Ledger.add_interest(bill)\n",
      "(Pdb) continue\n",
      "> <ipython-input-1-9e5204081c66>(6)<module>()->None\n",
      "-> breakpoint()\n",
      "(Pdb) year\n",
      "4\n",
      "(Pdb) bill\n",
      "125.97120000000002\n",
      "(Pdb) list\n",
      "  1  \tfrom IPython.display import clear_output as bye\n",
      "  2  \timport Ledger\n",
      "  3  \tbill = 100.0\n",
      "  4  \tbreakpoint()\n",
      "  5  \tfor year in range(1,10):\n",
      "  6  ->\t    breakpoint()\n",
      "  7  \t    bill = Ledger.add_interest(bill)\n",
      "[EOF]\n",
      "(Pdb) exit\n"
     ]
    },
    {
     "ename": "BdbQuit",
     "evalue": "",
     "output_type": "error",
     "traceback": [
      "\u001b[0;31m---------------------------------------------------------------------------\u001b[0m",
      "\u001b[0;31mBdbQuit\u001b[0m                                   Traceback (most recent call last)",
      "\u001b[0;32m<ipython-input-1-9e5204081c66>\u001b[0m in \u001b[0;36m<module>\u001b[0;34m\u001b[0m\n\u001b[1;32m      4\u001b[0m \u001b[0mbreakpoint\u001b[0m\u001b[0;34m(\u001b[0m\u001b[0;34m)\u001b[0m\u001b[0;34m\u001b[0m\u001b[0;34m\u001b[0m\u001b[0m\n\u001b[1;32m      5\u001b[0m \u001b[0;32mfor\u001b[0m \u001b[0myear\u001b[0m \u001b[0;32min\u001b[0m \u001b[0mrange\u001b[0m\u001b[0;34m(\u001b[0m\u001b[0;36m1\u001b[0m\u001b[0;34m,\u001b[0m\u001b[0;36m10\u001b[0m\u001b[0;34m)\u001b[0m\u001b[0;34m:\u001b[0m\u001b[0;34m\u001b[0m\u001b[0;34m\u001b[0m\u001b[0m\n\u001b[0;32m----> 6\u001b[0;31m     \u001b[0mbreakpoint\u001b[0m\u001b[0;34m(\u001b[0m\u001b[0;34m)\u001b[0m\u001b[0;34m\u001b[0m\u001b[0;34m\u001b[0m\u001b[0m\n\u001b[0m\u001b[1;32m      7\u001b[0m     \u001b[0mbill\u001b[0m \u001b[0;34m=\u001b[0m \u001b[0mLedger\u001b[0m\u001b[0;34m.\u001b[0m\u001b[0madd_interest\u001b[0m\u001b[0;34m(\u001b[0m\u001b[0mbill\u001b[0m\u001b[0;34m)\u001b[0m\u001b[0;34m\u001b[0m\u001b[0;34m\u001b[0m\u001b[0m\n",
      "\u001b[0;32m<ipython-input-1-9e5204081c66>\u001b[0m in \u001b[0;36m<module>\u001b[0;34m\u001b[0m\n\u001b[1;32m      4\u001b[0m \u001b[0mbreakpoint\u001b[0m\u001b[0;34m(\u001b[0m\u001b[0;34m)\u001b[0m\u001b[0;34m\u001b[0m\u001b[0;34m\u001b[0m\u001b[0m\n\u001b[1;32m      5\u001b[0m \u001b[0;32mfor\u001b[0m \u001b[0myear\u001b[0m \u001b[0;32min\u001b[0m \u001b[0mrange\u001b[0m\u001b[0;34m(\u001b[0m\u001b[0;36m1\u001b[0m\u001b[0;34m,\u001b[0m\u001b[0;36m10\u001b[0m\u001b[0;34m)\u001b[0m\u001b[0;34m:\u001b[0m\u001b[0;34m\u001b[0m\u001b[0;34m\u001b[0m\u001b[0m\n\u001b[0;32m----> 6\u001b[0;31m     \u001b[0mbreakpoint\u001b[0m\u001b[0;34m(\u001b[0m\u001b[0;34m)\u001b[0m\u001b[0;34m\u001b[0m\u001b[0;34m\u001b[0m\u001b[0m\n\u001b[0m\u001b[1;32m      7\u001b[0m     \u001b[0mbill\u001b[0m \u001b[0;34m=\u001b[0m \u001b[0mLedger\u001b[0m\u001b[0;34m.\u001b[0m\u001b[0madd_interest\u001b[0m\u001b[0;34m(\u001b[0m\u001b[0mbill\u001b[0m\u001b[0;34m)\u001b[0m\u001b[0;34m\u001b[0m\u001b[0;34m\u001b[0m\u001b[0m\n",
      "\u001b[0;32m~/anaconda3/lib/python3.7/bdb.py\u001b[0m in \u001b[0;36mtrace_dispatch\u001b[0;34m(self, frame, event, arg)\u001b[0m\n\u001b[1;32m     86\u001b[0m             \u001b[0;32mreturn\u001b[0m \u001b[0;31m# None\u001b[0m\u001b[0;34m\u001b[0m\u001b[0;34m\u001b[0m\u001b[0m\n\u001b[1;32m     87\u001b[0m         \u001b[0;32mif\u001b[0m \u001b[0mevent\u001b[0m \u001b[0;34m==\u001b[0m \u001b[0;34m'line'\u001b[0m\u001b[0;34m:\u001b[0m\u001b[0;34m\u001b[0m\u001b[0;34m\u001b[0m\u001b[0m\n\u001b[0;32m---> 88\u001b[0;31m             \u001b[0;32mreturn\u001b[0m \u001b[0mself\u001b[0m\u001b[0;34m.\u001b[0m\u001b[0mdispatch_line\u001b[0m\u001b[0;34m(\u001b[0m\u001b[0mframe\u001b[0m\u001b[0;34m)\u001b[0m\u001b[0;34m\u001b[0m\u001b[0;34m\u001b[0m\u001b[0m\n\u001b[0m\u001b[1;32m     89\u001b[0m         \u001b[0;32mif\u001b[0m \u001b[0mevent\u001b[0m \u001b[0;34m==\u001b[0m \u001b[0;34m'call'\u001b[0m\u001b[0;34m:\u001b[0m\u001b[0;34m\u001b[0m\u001b[0;34m\u001b[0m\u001b[0m\n\u001b[1;32m     90\u001b[0m             \u001b[0;32mreturn\u001b[0m \u001b[0mself\u001b[0m\u001b[0;34m.\u001b[0m\u001b[0mdispatch_call\u001b[0m\u001b[0;34m(\u001b[0m\u001b[0mframe\u001b[0m\u001b[0;34m,\u001b[0m \u001b[0marg\u001b[0m\u001b[0;34m)\u001b[0m\u001b[0;34m\u001b[0m\u001b[0;34m\u001b[0m\u001b[0m\n",
      "\u001b[0;32m~/anaconda3/lib/python3.7/bdb.py\u001b[0m in \u001b[0;36mdispatch_line\u001b[0;34m(self, frame)\u001b[0m\n\u001b[1;32m    111\u001b[0m         \u001b[0;32mif\u001b[0m \u001b[0mself\u001b[0m\u001b[0;34m.\u001b[0m\u001b[0mstop_here\u001b[0m\u001b[0;34m(\u001b[0m\u001b[0mframe\u001b[0m\u001b[0;34m)\u001b[0m \u001b[0;32mor\u001b[0m \u001b[0mself\u001b[0m\u001b[0;34m.\u001b[0m\u001b[0mbreak_here\u001b[0m\u001b[0;34m(\u001b[0m\u001b[0mframe\u001b[0m\u001b[0;34m)\u001b[0m\u001b[0;34m:\u001b[0m\u001b[0;34m\u001b[0m\u001b[0;34m\u001b[0m\u001b[0m\n\u001b[1;32m    112\u001b[0m             \u001b[0mself\u001b[0m\u001b[0;34m.\u001b[0m\u001b[0muser_line\u001b[0m\u001b[0;34m(\u001b[0m\u001b[0mframe\u001b[0m\u001b[0;34m)\u001b[0m\u001b[0;34m\u001b[0m\u001b[0;34m\u001b[0m\u001b[0m\n\u001b[0;32m--> 113\u001b[0;31m             \u001b[0;32mif\u001b[0m \u001b[0mself\u001b[0m\u001b[0;34m.\u001b[0m\u001b[0mquitting\u001b[0m\u001b[0;34m:\u001b[0m \u001b[0;32mraise\u001b[0m \u001b[0mBdbQuit\u001b[0m\u001b[0;34m\u001b[0m\u001b[0;34m\u001b[0m\u001b[0m\n\u001b[0m\u001b[1;32m    114\u001b[0m         \u001b[0;32mreturn\u001b[0m \u001b[0mself\u001b[0m\u001b[0;34m.\u001b[0m\u001b[0mtrace_dispatch\u001b[0m\u001b[0;34m\u001b[0m\u001b[0;34m\u001b[0m\u001b[0m\n\u001b[1;32m    115\u001b[0m \u001b[0;34m\u001b[0m\u001b[0m\n",
      "\u001b[0;31mBdbQuit\u001b[0m: "
     ]
    }
   ],
   "source": [
    "from IPython.display import clear_output as bye\n",
    "import Ledger\n",
    "bill = 100.0\n",
    "breakpoint()\n",
    "for year in range(1,10):\n",
    "    breakpoint()\n",
    "    bill = Ledger.add_interest(bill)"
   ]
  },
  {
   "cell_type": "markdown",
   "metadata": {
    "slideshow": {
     "slide_type": "subslide"
    }
   },
   "source": [
    "#### b(reak) [ ([filename:]lineno | function) [, condition] ]\n",
    "* b (break) lists all of the breakpoints\n",
    "* b followed by the above conditional sets a new breakpoint"
   ]
  },
  {
   "cell_type": "markdown",
   "metadata": {
    "slideshow": {
     "slide_type": "slide"
    }
   },
   "source": [
    "## Dependence Example"
   ]
  },
  {
   "cell_type": "code",
   "execution_count": 2,
   "metadata": {
    "slideshow": {
     "slide_type": "subslide"
    }
   },
   "outputs": [],
   "source": [
    "import Ledger"
   ]
  },
  {
   "cell_type": "code",
   "execution_count": 3,
   "metadata": {
    "slideshow": {
     "slide_type": "fragment"
    }
   },
   "outputs": [
    {
     "name": "stdout",
     "output_type": "stream",
     "text": [
      "You need to pay WotC $623.\n"
     ]
    },
    {
     "data": {
      "text/plain": [
       "['WotC', 623]"
      ]
     },
     "execution_count": 3,
     "metadata": {},
     "output_type": "execute_result"
    }
   ],
   "source": [
    "Ledger.get_bill()"
   ]
  },
  {
   "cell_type": "code",
   "execution_count": 4,
   "metadata": {
    "scrolled": true,
    "slideshow": {
     "slide_type": "subslide"
    }
   },
   "outputs": [
    {
     "name": "stdout",
     "output_type": "stream",
     "text": [
      "You need to pay DNDBeyond $186.\n",
      "You need to pay WotC $553.\n",
      "You need to pay CoolStuffInc $265.\n",
      "You need to pay Farm2Bowl $219.\n"
     ]
    }
   ],
   "source": [
    "bills=[]\n",
    "for i in range(4):\n",
    "    bills.append(Ledger.get_bill())"
   ]
  },
  {
   "cell_type": "code",
   "execution_count": 5,
   "metadata": {
    "slideshow": {
     "slide_type": "fragment"
    }
   },
   "outputs": [
    {
     "name": "stdout",
     "output_type": "stream",
     "text": [
      "Payday! You've got 3000 in the bank.\n",
      "Actually . . .\n",
      "Something went wrong, I guess. ¯\\_(ツ)_/¯\n",
      "$2447 left after paying off WotC for $553\n",
      "Something went wrong, I guess. ¯\\_(ツ)_/¯\n",
      "$2228 left after paying off Farm2Bowl for $219\n",
      "Time to spend the remaining $2228!\n"
     ]
    }
   ],
   "source": [
    "Ledger.get_paid(bills)"
   ]
  },
  {
   "cell_type": "code",
   "execution_count": 6,
   "metadata": {
    "scrolled": true,
    "slideshow": {
     "slide_type": "subslide"
    }
   },
   "outputs": [
    {
     "name": "stdout",
     "output_type": "stream",
     "text": [
      "--Return--\n",
      "> <ipython-input-6-20227d2986a2>(1)<module>()->None\n",
      "-> breakpoint()\n",
      "(Pdb) pp\n",
      "*** SyntaxError: unexpected EOF while parsing\n",
      "(Pdb) l\n",
      "  1  ->\tbreakpoint()\n",
      "  2  \tLedger.get_paid(bills)\n",
      "[EOF]\n",
      "(Pdb) step\n",
      "> /Users/minnafingerhood/anaconda3/lib/python3.7/site-packages/IPython/core/interactiveshell.py(3299)run_code()\n",
      "-> sys.excepthook = old_excepthook\n",
      "(Pdb) where\n",
      "  /Users/minnafingerhood/anaconda3/lib/python3.7/runpy.py(193)_run_module_as_main()\n",
      "-> \"__main__\", mod_spec)\n",
      "  /Users/minnafingerhood/anaconda3/lib/python3.7/runpy.py(85)_run_code()\n",
      "-> exec(code, run_globals)\n",
      "  /Users/minnafingerhood/anaconda3/lib/python3.7/site-packages/ipykernel_launcher.py(16)<module>()\n",
      "-> app.launch_new_instance()\n",
      "  /Users/minnafingerhood/anaconda3/lib/python3.7/site-packages/traitlets/config/application.py(658)launch_instance()\n",
      "-> app.start()\n",
      "  /Users/minnafingerhood/anaconda3/lib/python3.7/site-packages/ipykernel/kernelapp.py(505)start()\n",
      "-> self.io_loop.start()\n",
      "  /Users/minnafingerhood/anaconda3/lib/python3.7/site-packages/tornado/platform/asyncio.py(148)start()\n",
      "-> self.asyncio_loop.run_forever()\n",
      "  /Users/minnafingerhood/anaconda3/lib/python3.7/asyncio/base_events.py(539)run_forever()\n",
      "-> self._run_once()\n",
      "  /Users/minnafingerhood/anaconda3/lib/python3.7/asyncio/base_events.py(1775)_run_once()\n",
      "-> handle._run()\n",
      "  /Users/minnafingerhood/anaconda3/lib/python3.7/asyncio/events.py(88)_run()\n",
      "-> self._context.run(self._callback, *self._args)\n",
      "  /Users/minnafingerhood/anaconda3/lib/python3.7/site-packages/tornado/ioloop.py(690)<lambda>()\n",
      "-> lambda f: self._run_callback(functools.partial(callback, future))\n",
      "  /Users/minnafingerhood/anaconda3/lib/python3.7/site-packages/tornado/ioloop.py(743)_run_callback()\n",
      "-> ret = callback()\n",
      "  /Users/minnafingerhood/anaconda3/lib/python3.7/site-packages/tornado/gen.py(781)inner()\n",
      "-> self.run()\n",
      "  /Users/minnafingerhood/anaconda3/lib/python3.7/site-packages/tornado/gen.py(742)run()\n",
      "-> yielded = self.gen.send(value)\n",
      "  /Users/minnafingerhood/anaconda3/lib/python3.7/site-packages/ipykernel/kernelbase.py(357)process_one()\n",
      "-> yield gen.maybe_future(dispatch(*args))\n",
      "  /Users/minnafingerhood/anaconda3/lib/python3.7/site-packages/tornado/gen.py(209)wrapper()\n",
      "-> yielded = next(result)\n",
      "  /Users/minnafingerhood/anaconda3/lib/python3.7/site-packages/ipykernel/kernelbase.py(267)dispatch_shell()\n",
      "-> yield gen.maybe_future(handler(stream, idents, msg))\n",
      "  /Users/minnafingerhood/anaconda3/lib/python3.7/site-packages/tornado/gen.py(209)wrapper()\n",
      "-> yielded = next(result)\n",
      "  /Users/minnafingerhood/anaconda3/lib/python3.7/site-packages/ipykernel/kernelbase.py(534)execute_request()\n",
      "-> user_expressions, allow_stdin,\n",
      "  /Users/minnafingerhood/anaconda3/lib/python3.7/site-packages/tornado/gen.py(209)wrapper()\n",
      "-> yielded = next(result)\n",
      "  /Users/minnafingerhood/anaconda3/lib/python3.7/site-packages/ipykernel/ipkernel.py(294)do_execute()\n",
      "-> res = shell.run_cell(code, store_history=store_history, silent=silent)\n",
      "  /Users/minnafingerhood/anaconda3/lib/python3.7/site-packages/ipykernel/zmqshell.py(536)run_cell()\n",
      "-> return super(ZMQInteractiveShell, self).run_cell(*args, **kwargs)\n",
      "  /Users/minnafingerhood/anaconda3/lib/python3.7/site-packages/IPython/core/interactiveshell.py(2848)run_cell()\n",
      "-> raw_cell, store_history, silent, shell_futures)\n",
      "  /Users/minnafingerhood/anaconda3/lib/python3.7/site-packages/IPython/core/interactiveshell.py(2874)_run_cell()\n",
      "-> return runner(coro)\n",
      "  /Users/minnafingerhood/anaconda3/lib/python3.7/site-packages/IPython/core/async_helpers.py(67)_pseudo_sync_runner()\n",
      "-> coro.send(None)\n",
      "  /Users/minnafingerhood/anaconda3/lib/python3.7/site-packages/IPython/core/interactiveshell.py(3049)run_cell_async()\n",
      "-> interactivity=interactivity, compiler=compiler, result=result)\n",
      "  /Users/minnafingerhood/anaconda3/lib/python3.7/site-packages/IPython/core/interactiveshell.py(3214)run_ast_nodes()\n",
      "-> if (yield from self.run_code(code, result)):\n",
      "> /Users/minnafingerhood/anaconda3/lib/python3.7/site-packages/IPython/core/interactiveshell.py(3299)run_code()\n",
      "-> sys.excepthook = old_excepthook\n",
      "(Pdb) step\n",
      "> /Users/minnafingerhood/anaconda3/lib/python3.7/site-packages/IPython/core/interactiveshell.py(3315)run_code()\n",
      "-> outflag = False\n",
      "(Pdb) pp\n",
      "*** SyntaxError: unexpected EOF while parsing\n",
      "(Pdb) l\n",
      "3310 \t        except:\n",
      "3311 \t            if result is not None:\n",
      "3312 \t                result.error_in_exec = sys.exc_info()[1]\n",
      "3313 \t            self.showtraceback(running_compiled_code=True)\n",
      "3314 \t        else:\n",
      "3315 ->\t            outflag = False\n",
      "3316 \t        return outflag\n",
      "3317 \t\n",
      "3318 \t    # For backwards compatibility\n",
      "3319 \t    runcode = run_code\n",
      "3320 \t\n",
      "(Pdb) next\n",
      "> /Users/minnafingerhood/anaconda3/lib/python3.7/site-packages/IPython/core/interactiveshell.py(3316)run_code()\n",
      "-> return outflag\n",
      "(Pdb) list\n",
      "3311 \t            if result is not None:\n",
      "3312 \t                result.error_in_exec = sys.exc_info()[1]\n",
      "3313 \t            self.showtraceback(running_compiled_code=True)\n",
      "3314 \t        else:\n",
      "3315 \t            outflag = False\n",
      "3316 ->\t        return outflag\n",
      "3317 \t\n",
      "3318 \t    # For backwards compatibility\n",
      "3319 \t    runcode = run_code\n",
      "3320 \t\n",
      "3321 \t    def check_complete(self, code: str) -> Tuple[str, str]:\n",
      "(Pdb) next\n",
      "Internal StopIteration: False\n",
      "> /Users/minnafingerhood/anaconda3/lib/python3.7/site-packages/IPython/core/interactiveshell.py(3214)run_ast_nodes()\n",
      "-> if (yield from self.run_code(code, result)):\n",
      "(Pdb) l\n",
      "3209 \t                    return True\n",
      "3210 \t            else:\n",
      "3211 \t                for i, node in enumerate(to_run_exec):\n",
      "3212 \t                    mod = Module([node], [])\n",
      "3213 \t                    code = compiler(mod, cell_name, \"exec\")\n",
      "3214 ->\t                    if (yield from self.run_code(code, result)):\n",
      "3215 \t                        return True\n",
      "3216 \t\n",
      "3217 \t                for i, node in enumerate(to_run_interactive):\n",
      "3218 \t                    mod = ast.Interactive([node])\n",
      "3219 \t                    code = compiler(mod, cell_name, \"single\")\n",
      "(Pdb) next\n",
      "> /Users/minnafingerhood/anaconda3/lib/python3.7/site-packages/IPython/core/interactiveshell.py(3211)run_ast_nodes()\n",
      "-> for i, node in enumerate(to_run_exec):\n",
      "(Pdb) list\n",
      "3206 \t                exec(async_wrapper_code, self.user_global_ns, self.user_ns)\n",
      "3207 \t                async_code = removed_co_newlocals(self.user_ns.pop('async-def-wrapper')).__code__\n",
      "3208 \t                if (yield from self.run_code(async_code, result, async_=True)):\n",
      "3209 \t                    return True\n",
      "3210 \t            else:\n",
      "3211 ->\t                for i, node in enumerate(to_run_exec):\n",
      "3212 \t                    mod = Module([node], [])\n",
      "3213 \t                    code = compiler(mod, cell_name, \"exec\")\n",
      "3214 \t                    if (yield from self.run_code(code, result)):\n",
      "3215 \t                        return True\n",
      "3216 \t\n",
      "(Pdb) exit\n"
     ]
    },
    {
     "ename": "BdbQuit",
     "evalue": "",
     "output_type": "error",
     "traceback": [
      "\u001b[0;31m---------------------------------------------------------------------------\u001b[0m",
      "\u001b[0;31mBdbQuit\u001b[0m                                   Traceback (most recent call last)",
      "\u001b[0;32m~/anaconda3/lib/python3.7/site-packages/IPython/core/interactiveshell.py\u001b[0m in \u001b[0;36mrun_ast_nodes\u001b[0;34m(self, nodelist, cell_name, interactivity, compiler, result)\u001b[0m\n\u001b[1;32m   3209\u001b[0m                     \u001b[0;32mreturn\u001b[0m \u001b[0;32mTrue\u001b[0m\u001b[0;34m\u001b[0m\u001b[0;34m\u001b[0m\u001b[0m\n\u001b[1;32m   3210\u001b[0m             \u001b[0;32melse\u001b[0m\u001b[0;34m:\u001b[0m\u001b[0;34m\u001b[0m\u001b[0;34m\u001b[0m\u001b[0m\n\u001b[0;32m-> 3211\u001b[0;31m                 \u001b[0;32mfor\u001b[0m \u001b[0mi\u001b[0m\u001b[0;34m,\u001b[0m \u001b[0mnode\u001b[0m \u001b[0;32min\u001b[0m \u001b[0menumerate\u001b[0m\u001b[0;34m(\u001b[0m\u001b[0mto_run_exec\u001b[0m\u001b[0;34m)\u001b[0m\u001b[0;34m:\u001b[0m\u001b[0;34m\u001b[0m\u001b[0;34m\u001b[0m\u001b[0m\n\u001b[0m\u001b[1;32m   3212\u001b[0m                     \u001b[0mmod\u001b[0m \u001b[0;34m=\u001b[0m \u001b[0mModule\u001b[0m\u001b[0;34m(\u001b[0m\u001b[0;34m[\u001b[0m\u001b[0mnode\u001b[0m\u001b[0;34m]\u001b[0m\u001b[0;34m,\u001b[0m \u001b[0;34m[\u001b[0m\u001b[0;34m]\u001b[0m\u001b[0;34m)\u001b[0m\u001b[0;34m\u001b[0m\u001b[0;34m\u001b[0m\u001b[0m\n\u001b[1;32m   3213\u001b[0m                     \u001b[0mcode\u001b[0m \u001b[0;34m=\u001b[0m \u001b[0mcompiler\u001b[0m\u001b[0;34m(\u001b[0m\u001b[0mmod\u001b[0m\u001b[0;34m,\u001b[0m \u001b[0mcell_name\u001b[0m\u001b[0;34m,\u001b[0m \u001b[0;34m\"exec\"\u001b[0m\u001b[0;34m)\u001b[0m\u001b[0;34m\u001b[0m\u001b[0;34m\u001b[0m\u001b[0m\n",
      "\u001b[0;32m~/anaconda3/lib/python3.7/bdb.py\u001b[0m in \u001b[0;36mtrace_dispatch\u001b[0;34m(self, frame, event, arg)\u001b[0m\n\u001b[1;32m     86\u001b[0m             \u001b[0;32mreturn\u001b[0m \u001b[0;31m# None\u001b[0m\u001b[0;34m\u001b[0m\u001b[0;34m\u001b[0m\u001b[0m\n\u001b[1;32m     87\u001b[0m         \u001b[0;32mif\u001b[0m \u001b[0mevent\u001b[0m \u001b[0;34m==\u001b[0m \u001b[0;34m'line'\u001b[0m\u001b[0;34m:\u001b[0m\u001b[0;34m\u001b[0m\u001b[0;34m\u001b[0m\u001b[0m\n\u001b[0;32m---> 88\u001b[0;31m             \u001b[0;32mreturn\u001b[0m \u001b[0mself\u001b[0m\u001b[0;34m.\u001b[0m\u001b[0mdispatch_line\u001b[0m\u001b[0;34m(\u001b[0m\u001b[0mframe\u001b[0m\u001b[0;34m)\u001b[0m\u001b[0;34m\u001b[0m\u001b[0;34m\u001b[0m\u001b[0m\n\u001b[0m\u001b[1;32m     89\u001b[0m         \u001b[0;32mif\u001b[0m \u001b[0mevent\u001b[0m \u001b[0;34m==\u001b[0m \u001b[0;34m'call'\u001b[0m\u001b[0;34m:\u001b[0m\u001b[0;34m\u001b[0m\u001b[0;34m\u001b[0m\u001b[0m\n\u001b[1;32m     90\u001b[0m             \u001b[0;32mreturn\u001b[0m \u001b[0mself\u001b[0m\u001b[0;34m.\u001b[0m\u001b[0mdispatch_call\u001b[0m\u001b[0;34m(\u001b[0m\u001b[0mframe\u001b[0m\u001b[0;34m,\u001b[0m \u001b[0marg\u001b[0m\u001b[0;34m)\u001b[0m\u001b[0;34m\u001b[0m\u001b[0;34m\u001b[0m\u001b[0m\n",
      "\u001b[0;32m~/anaconda3/lib/python3.7/bdb.py\u001b[0m in \u001b[0;36mdispatch_line\u001b[0;34m(self, frame)\u001b[0m\n\u001b[1;32m    111\u001b[0m         \u001b[0;32mif\u001b[0m \u001b[0mself\u001b[0m\u001b[0;34m.\u001b[0m\u001b[0mstop_here\u001b[0m\u001b[0;34m(\u001b[0m\u001b[0mframe\u001b[0m\u001b[0;34m)\u001b[0m \u001b[0;32mor\u001b[0m \u001b[0mself\u001b[0m\u001b[0;34m.\u001b[0m\u001b[0mbreak_here\u001b[0m\u001b[0;34m(\u001b[0m\u001b[0mframe\u001b[0m\u001b[0;34m)\u001b[0m\u001b[0;34m:\u001b[0m\u001b[0;34m\u001b[0m\u001b[0;34m\u001b[0m\u001b[0m\n\u001b[1;32m    112\u001b[0m             \u001b[0mself\u001b[0m\u001b[0;34m.\u001b[0m\u001b[0muser_line\u001b[0m\u001b[0;34m(\u001b[0m\u001b[0mframe\u001b[0m\u001b[0;34m)\u001b[0m\u001b[0;34m\u001b[0m\u001b[0;34m\u001b[0m\u001b[0m\n\u001b[0;32m--> 113\u001b[0;31m             \u001b[0;32mif\u001b[0m \u001b[0mself\u001b[0m\u001b[0;34m.\u001b[0m\u001b[0mquitting\u001b[0m\u001b[0;34m:\u001b[0m \u001b[0;32mraise\u001b[0m \u001b[0mBdbQuit\u001b[0m\u001b[0;34m\u001b[0m\u001b[0;34m\u001b[0m\u001b[0m\n\u001b[0m\u001b[1;32m    114\u001b[0m         \u001b[0;32mreturn\u001b[0m \u001b[0mself\u001b[0m\u001b[0;34m.\u001b[0m\u001b[0mtrace_dispatch\u001b[0m\u001b[0;34m\u001b[0m\u001b[0;34m\u001b[0m\u001b[0m\n\u001b[1;32m    115\u001b[0m \u001b[0;34m\u001b[0m\u001b[0m\n",
      "\u001b[0;31mBdbQuit\u001b[0m: "
     ]
    }
   ],
   "source": [
    "breakpoint()\n",
    "Ledger.get_paid(bills)"
   ]
  },
  {
   "cell_type": "markdown",
   "metadata": {
    "slideshow": {
     "slide_type": "subslide"
    }
   },
   "source": [
    "## Problem:\n",
    "Explore the following code using the breakpoint and figure out what went wrong in the loops:\n",
    "1. Set a breakpoint for when Ledger.get_bill gets called \n",
    "    * Remember jupyter notebooks have a lot of hidden functions running on the stack\n",
    "2. Explore the function stack, check your context, form hypotheses and test them with PDB\n",
    "3. **n**(ext), **s**(tep) and **c**(ontinue) are your best friends"
   ]
  },
  {
   "cell_type": "code",
   "execution_count": 7,
   "metadata": {
    "slideshow": {
     "slide_type": "subslide"
    }
   },
   "outputs": [
    {
     "name": "stdout",
     "output_type": "stream",
     "text": [
      "> <ipython-input-7-cf0cea2c6812>(5)<module>()->None\n",
      "-> bills.append(Ledger.get_bill())\n",
      "(Pdb) list\n",
      "  1  \timport Ledger\n",
      "  2  \tbills=[]\n",
      "  3  \tfor i in range(1,5):\n",
      "  4  \t    breakpoint()\n",
      "  5  ->\t    bills.append(Ledger.get_bill())\n",
      "[EOF]\n",
      "(Pdb) step\n",
      "--Call--\n",
      "> /Users/minnafingerhood/Dropbox/Flatiron/nyc-mhtn-ds-060319-lectures/dsc-python-debugger/Ledger.py(25)get_bill()\n",
      "-> def get_bill():\n",
      "(Pdb) list\n",
      " 20  \t\n",
      " 21  \tdef add_interest(bill, interest=.08):\n",
      " 22  \t    return bill*(1+interest)\n",
      " 23  \t\n",
      " 24  \t\n",
      " 25  ->\tdef get_bill():\n",
      " 26  \t    bill = bills.generate()\n",
      " 27  \t    print(f'You need to pay {bill[0]} ${bill[1]}.')\n",
      " 28  \t    return bill\n",
      " 29  \t\n",
      " 30  \t\n",
      "(Pdb) next\n",
      "> /Users/minnafingerhood/Dropbox/Flatiron/nyc-mhtn-ds-060319-lectures/dsc-python-debugger/Ledger.py(26)get_bill()\n",
      "-> bill = bills.generate()\n",
      "(Pdb) step\n",
      "--Call--\n",
      "> /Users/minnafingerhood/Dropbox/Flatiron/nyc-mhtn-ds-060319-lectures/dsc-python-debugger/Ledger.py(11)generate()\n",
      "-> def generate(self):\n",
      "(Pdb) step\n",
      "> /Users/minnafingerhood/Dropbox/Flatiron/nyc-mhtn-ds-060319-lectures/dsc-python-debugger/Ledger.py(12)generate()\n",
      "-> self.counter += 1\n",
      "(Pdb) unstep\n",
      "*** NameError: name 'unstep' is not defined\n",
      "(Pdb) back\n",
      "*** NameError: name 'back' is not defined\n",
      "(Pdb) reverse\n",
      "*** NameError: name 'reverse' is not defined\n",
      "(Pdb) continue\n",
      "You need to pay MiniatureMarket $644.\n",
      "> <ipython-input-7-cf0cea2c6812>(4)<module>()->None\n",
      "-> breakpoint()\n",
      "(Pdb) list\n",
      "  1  \timport Ledger\n",
      "  2  \tbills=[]\n",
      "  3  \tfor i in range(1,5):\n",
      "  4  ->\t    breakpoint()\n",
      "  5  \t    bills.append(Ledger.get_bill())\n",
      "[EOF]\n",
      "(Pdb) next\n",
      "> <ipython-input-7-cf0cea2c6812>(5)<module>()->None\n",
      "-> bills.append(Ledger.get_bill())\n",
      "(Pdb) step\n",
      "--Call--\n",
      "> /Users/minnafingerhood/Dropbox/Flatiron/nyc-mhtn-ds-060319-lectures/dsc-python-debugger/Ledger.py(25)get_bill()\n",
      "-> def get_bill():\n",
      "(Pdb) list\n",
      " 20  \t\n",
      " 21  \tdef add_interest(bill, interest=.08):\n",
      " 22  \t    return bill*(1+interest)\n",
      " 23  \t\n",
      " 24  \t\n",
      " 25  ->\tdef get_bill():\n",
      " 26  \t    bill = bills.generate()\n",
      " 27  \t    print(f'You need to pay {bill[0]} ${bill[1]}.')\n",
      " 28  \t    return bill\n",
      " 29  \t\n",
      " 30  \t\n",
      "(Pdb) next\n",
      "> /Users/minnafingerhood/Dropbox/Flatiron/nyc-mhtn-ds-060319-lectures/dsc-python-debugger/Ledger.py(26)get_bill()\n",
      "-> bill = bills.generate()\n",
      "(Pdb) step\n",
      "--Call--\n",
      "> /Users/minnafingerhood/Dropbox/Flatiron/nyc-mhtn-ds-060319-lectures/dsc-python-debugger/Ledger.py(11)generate()\n",
      "-> def generate(self):\n",
      "(Pdb) list\n",
      "  6  \t    def __init__(self):\n",
      "  7  \t        self.counter = 0\n",
      "  8  \t        self.rng = np.random\n",
      "  9  \t        self.co = ['WotC', 'CoolStuffInc', 'DNDBeyond', 'MiniatureMarket', 'Farm2Bowl']\n",
      " 10  \t\n",
      " 11  ->\t    def generate(self):\n",
      " 12  \t        self.counter += 1\n",
      " 13  \t        if self.counter % 2 == 0:\n",
      " 14  \t            return [str(self.rng.choice(self.co, 1)[0]), str(self.rng.randint(10, 1000, 1)[0])]\n",
      " 15  \t        else:\n",
      " 16  \t            return [str(self.rng.choice(self.co, 1)[0]), int(self.rng.randint(10, 1000, 1))]\n",
      "(Pdb) exit\n"
     ]
    },
    {
     "ename": "BdbQuit",
     "evalue": "",
     "output_type": "error",
     "traceback": [
      "\u001b[0;31m---------------------------------------------------------------------------\u001b[0m",
      "\u001b[0;31mBdbQuit\u001b[0m                                   Traceback (most recent call last)",
      "\u001b[0;32m<ipython-input-7-cf0cea2c6812>\u001b[0m in \u001b[0;36m<module>\u001b[0;34m\u001b[0m\n\u001b[1;32m      3\u001b[0m \u001b[0;32mfor\u001b[0m \u001b[0mi\u001b[0m \u001b[0;32min\u001b[0m \u001b[0mrange\u001b[0m\u001b[0;34m(\u001b[0m\u001b[0;36m1\u001b[0m\u001b[0;34m,\u001b[0m\u001b[0;36m5\u001b[0m\u001b[0;34m)\u001b[0m\u001b[0;34m:\u001b[0m\u001b[0;34m\u001b[0m\u001b[0;34m\u001b[0m\u001b[0m\n\u001b[1;32m      4\u001b[0m     \u001b[0mbreakpoint\u001b[0m\u001b[0;34m(\u001b[0m\u001b[0;34m)\u001b[0m\u001b[0;34m\u001b[0m\u001b[0;34m\u001b[0m\u001b[0m\n\u001b[0;32m----> 5\u001b[0;31m     \u001b[0mbills\u001b[0m\u001b[0;34m.\u001b[0m\u001b[0mappend\u001b[0m\u001b[0;34m(\u001b[0m\u001b[0mLedger\u001b[0m\u001b[0;34m.\u001b[0m\u001b[0mget_bill\u001b[0m\u001b[0;34m(\u001b[0m\u001b[0;34m)\u001b[0m\u001b[0;34m)\u001b[0m\u001b[0;34m\u001b[0m\u001b[0;34m\u001b[0m\u001b[0m\n\u001b[0m",
      "\u001b[0;32m~/Dropbox/Flatiron/nyc-mhtn-ds-060319-lectures/dsc-python-debugger/Ledger.py\u001b[0m in \u001b[0;36mget_bill\u001b[0;34m()\u001b[0m\n\u001b[1;32m     24\u001b[0m \u001b[0;34m\u001b[0m\u001b[0m\n\u001b[1;32m     25\u001b[0m \u001b[0;32mdef\u001b[0m \u001b[0mget_bill\u001b[0m\u001b[0;34m(\u001b[0m\u001b[0;34m)\u001b[0m\u001b[0;34m:\u001b[0m\u001b[0;34m\u001b[0m\u001b[0;34m\u001b[0m\u001b[0m\n\u001b[0;32m---> 26\u001b[0;31m     \u001b[0mbill\u001b[0m \u001b[0;34m=\u001b[0m \u001b[0mbills\u001b[0m\u001b[0;34m.\u001b[0m\u001b[0mgenerate\u001b[0m\u001b[0;34m(\u001b[0m\u001b[0;34m)\u001b[0m\u001b[0;34m\u001b[0m\u001b[0;34m\u001b[0m\u001b[0m\n\u001b[0m\u001b[1;32m     27\u001b[0m     \u001b[0mprint\u001b[0m\u001b[0;34m(\u001b[0m\u001b[0;34mf'You need to pay {bill[0]} ${bill[1]}.'\u001b[0m\u001b[0;34m)\u001b[0m\u001b[0;34m\u001b[0m\u001b[0;34m\u001b[0m\u001b[0m\n\u001b[1;32m     28\u001b[0m     \u001b[0;32mreturn\u001b[0m \u001b[0mbill\u001b[0m\u001b[0;34m\u001b[0m\u001b[0;34m\u001b[0m\u001b[0m\n",
      "\u001b[0;32m~/Dropbox/Flatiron/nyc-mhtn-ds-060319-lectures/dsc-python-debugger/Ledger.py\u001b[0m in \u001b[0;36mgenerate\u001b[0;34m(self)\u001b[0m\n\u001b[1;32m      9\u001b[0m         \u001b[0mself\u001b[0m\u001b[0;34m.\u001b[0m\u001b[0mco\u001b[0m \u001b[0;34m=\u001b[0m \u001b[0;34m[\u001b[0m\u001b[0;34m'WotC'\u001b[0m\u001b[0;34m,\u001b[0m \u001b[0;34m'CoolStuffInc'\u001b[0m\u001b[0;34m,\u001b[0m \u001b[0;34m'DNDBeyond'\u001b[0m\u001b[0;34m,\u001b[0m \u001b[0;34m'MiniatureMarket'\u001b[0m\u001b[0;34m,\u001b[0m \u001b[0;34m'Farm2Bowl'\u001b[0m\u001b[0;34m]\u001b[0m\u001b[0;34m\u001b[0m\u001b[0;34m\u001b[0m\u001b[0m\n\u001b[1;32m     10\u001b[0m \u001b[0;34m\u001b[0m\u001b[0m\n\u001b[0;32m---> 11\u001b[0;31m     \u001b[0;32mdef\u001b[0m \u001b[0mgenerate\u001b[0m\u001b[0;34m(\u001b[0m\u001b[0mself\u001b[0m\u001b[0;34m)\u001b[0m\u001b[0;34m:\u001b[0m\u001b[0;34m\u001b[0m\u001b[0;34m\u001b[0m\u001b[0m\n\u001b[0m\u001b[1;32m     12\u001b[0m         \u001b[0mself\u001b[0m\u001b[0;34m.\u001b[0m\u001b[0mcounter\u001b[0m \u001b[0;34m+=\u001b[0m \u001b[0;36m1\u001b[0m\u001b[0;34m\u001b[0m\u001b[0;34m\u001b[0m\u001b[0m\n\u001b[1;32m     13\u001b[0m         \u001b[0;32mif\u001b[0m \u001b[0mself\u001b[0m\u001b[0;34m.\u001b[0m\u001b[0mcounter\u001b[0m \u001b[0;34m%\u001b[0m \u001b[0;36m2\u001b[0m \u001b[0;34m==\u001b[0m \u001b[0;36m0\u001b[0m\u001b[0;34m:\u001b[0m\u001b[0;34m\u001b[0m\u001b[0;34m\u001b[0m\u001b[0m\n",
      "\u001b[0;32m~/anaconda3/lib/python3.7/bdb.py\u001b[0m in \u001b[0;36mtrace_dispatch\u001b[0;34m(self, frame, event, arg)\u001b[0m\n\u001b[1;32m     88\u001b[0m             \u001b[0;32mreturn\u001b[0m \u001b[0mself\u001b[0m\u001b[0;34m.\u001b[0m\u001b[0mdispatch_line\u001b[0m\u001b[0;34m(\u001b[0m\u001b[0mframe\u001b[0m\u001b[0;34m)\u001b[0m\u001b[0;34m\u001b[0m\u001b[0;34m\u001b[0m\u001b[0m\n\u001b[1;32m     89\u001b[0m         \u001b[0;32mif\u001b[0m \u001b[0mevent\u001b[0m \u001b[0;34m==\u001b[0m \u001b[0;34m'call'\u001b[0m\u001b[0;34m:\u001b[0m\u001b[0;34m\u001b[0m\u001b[0;34m\u001b[0m\u001b[0m\n\u001b[0;32m---> 90\u001b[0;31m             \u001b[0;32mreturn\u001b[0m \u001b[0mself\u001b[0m\u001b[0;34m.\u001b[0m\u001b[0mdispatch_call\u001b[0m\u001b[0;34m(\u001b[0m\u001b[0mframe\u001b[0m\u001b[0;34m,\u001b[0m \u001b[0marg\u001b[0m\u001b[0;34m)\u001b[0m\u001b[0;34m\u001b[0m\u001b[0;34m\u001b[0m\u001b[0m\n\u001b[0m\u001b[1;32m     91\u001b[0m         \u001b[0;32mif\u001b[0m \u001b[0mevent\u001b[0m \u001b[0;34m==\u001b[0m \u001b[0;34m'return'\u001b[0m\u001b[0;34m:\u001b[0m\u001b[0;34m\u001b[0m\u001b[0;34m\u001b[0m\u001b[0m\n\u001b[1;32m     92\u001b[0m             \u001b[0;32mreturn\u001b[0m \u001b[0mself\u001b[0m\u001b[0;34m.\u001b[0m\u001b[0mdispatch_return\u001b[0m\u001b[0;34m(\u001b[0m\u001b[0mframe\u001b[0m\u001b[0;34m,\u001b[0m \u001b[0marg\u001b[0m\u001b[0;34m)\u001b[0m\u001b[0;34m\u001b[0m\u001b[0;34m\u001b[0m\u001b[0m\n",
      "\u001b[0;32m~/anaconda3/lib/python3.7/bdb.py\u001b[0m in \u001b[0;36mdispatch_call\u001b[0;34m(self, frame, arg)\u001b[0m\n\u001b[1;32m    133\u001b[0m             \u001b[0;32mreturn\u001b[0m \u001b[0mself\u001b[0m\u001b[0;34m.\u001b[0m\u001b[0mtrace_dispatch\u001b[0m\u001b[0;34m\u001b[0m\u001b[0;34m\u001b[0m\u001b[0m\n\u001b[1;32m    134\u001b[0m         \u001b[0mself\u001b[0m\u001b[0;34m.\u001b[0m\u001b[0muser_call\u001b[0m\u001b[0;34m(\u001b[0m\u001b[0mframe\u001b[0m\u001b[0;34m,\u001b[0m \u001b[0marg\u001b[0m\u001b[0;34m)\u001b[0m\u001b[0;34m\u001b[0m\u001b[0;34m\u001b[0m\u001b[0m\n\u001b[0;32m--> 135\u001b[0;31m         \u001b[0;32mif\u001b[0m \u001b[0mself\u001b[0m\u001b[0;34m.\u001b[0m\u001b[0mquitting\u001b[0m\u001b[0;34m:\u001b[0m \u001b[0;32mraise\u001b[0m \u001b[0mBdbQuit\u001b[0m\u001b[0;34m\u001b[0m\u001b[0;34m\u001b[0m\u001b[0m\n\u001b[0m\u001b[1;32m    136\u001b[0m         \u001b[0;32mreturn\u001b[0m \u001b[0mself\u001b[0m\u001b[0;34m.\u001b[0m\u001b[0mtrace_dispatch\u001b[0m\u001b[0;34m\u001b[0m\u001b[0;34m\u001b[0m\u001b[0m\n\u001b[1;32m    137\u001b[0m \u001b[0;34m\u001b[0m\u001b[0m\n",
      "\u001b[0;31mBdbQuit\u001b[0m: "
     ]
    }
   ],
   "source": [
    "import Ledger\n",
    "bills=[]\n",
    "for i in range(1,5):\n",
    "    breakpoint()\n",
    "    bills.append(Ledger.get_bill())"
   ]
  },
  {
   "cell_type": "markdown",
   "metadata": {
    "slideshow": {
     "slide_type": "notes"
    }
   },
   "source": [
    "## Resources\n",
    "https://www.slideshare.net/svilen.ivanov/the-art-of-debugging\n",
    "\n",
    "https://www.cse.unr.edu/~bebis/CS308/PowerPoint/DEBUGGING.ppt"
   ]
  }
 ],
 "metadata": {
  "kernelspec": {
   "display_name": "Python 3",
   "language": "python",
   "name": "python3"
  }
 },
 "nbformat": 4,
 "nbformat_minor": 2
}
